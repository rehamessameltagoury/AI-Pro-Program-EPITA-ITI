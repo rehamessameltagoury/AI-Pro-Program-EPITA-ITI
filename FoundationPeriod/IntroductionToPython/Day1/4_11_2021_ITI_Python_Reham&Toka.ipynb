{
  "nbformat": 4,
  "nbformat_minor": 0,
  "metadata": {
    "colab": {
      "name": "4/11/2021/ITI/Python/Reham&Toka.ipynb",
      "provenance": [],
      "collapsed_sections": []
    },
    "kernelspec": {
      "name": "python3",
      "display_name": "Python 3"
    },
    "language_info": {
      "name": "python"
    }
  },
  "cells": [
    {
      "cell_type": "code",
      "metadata": {
        "colab": {
          "base_uri": "https://localhost:8080/"
        },
        "id": "R9J7UlttIcLA",
        "outputId": "71cb216c-07b7-4fc7-eabd-ebf83e433c0b"
      },
      "source": [
        "#Q1 slide 11\n",
        "a,b=input().split()\n",
        "print(int(a)+int(b))\n",
        "print(int(a)-int(b))\n",
        "print(int(a)*int(b))\n",
        "print(int(a)/int(b))"
      ],
      "execution_count": null,
      "outputs": [
        {
          "output_type": "stream",
          "text": [
            "5 6\n",
            "11\n",
            "-1\n",
            "30\n",
            "0.8333333333333334\n"
          ],
          "name": "stdout"
        }
      ]
    },
    {
      "cell_type": "code",
      "metadata": {
        "colab": {
          "base_uri": "https://localhost:8080/"
        },
        "id": "_30KHs8Ku5Gj",
        "outputId": "ef699482-eb36-4daf-bcf8-5aa8245475cd"
      },
      "source": [
        "# Q2 Swapping slide 12\n",
        "a,b=map(int,(input().split()))\n",
        "a,b=b,a\n",
        "print(str(a)+' '+str(b))"
      ],
      "execution_count": null,
      "outputs": [
        {
          "output_type": "stream",
          "text": [
            "enter two numbers: 7 25\n",
            "25 7\n"
          ],
          "name": "stdout"
        }
      ]
    },
    {
      "cell_type": "code",
      "metadata": {
        "colab": {
          "base_uri": "https://localhost:8080/"
        },
        "id": "79imGHv2v6v6",
        "outputId": "41491c9c-918d-4faf-f616-4d8c46cb1fbc"
      },
      "source": [
        "#Q3 slide 8\n",
        "for i in range(6):\n",
        "   x='*'\n",
        "   print(x*i)"
      ],
      "execution_count": null,
      "outputs": [
        {
          "output_type": "stream",
          "text": [
            "\n",
            "*\n",
            "**\n",
            "***\n",
            "****\n",
            "*****\n"
          ],
          "name": "stdout"
        }
      ]
    },
    {
      "cell_type": "code",
      "metadata": {
        "colab": {
          "base_uri": "https://localhost:8080/"
        },
        "id": "dPM-NveqwOT4",
        "outputId": "0922a0d9-f160-4e96-da00-8e4db5b75548"
      },
      "source": [
        "# Q4 slide 13\n",
        "li=list(map(int,(input().split())))\n",
        "print(li[1]+li[3]+li[5]+li[7])\n",
        "print(li[0]+li[2]+li[4]+li[6])"
      ],
      "execution_count": null,
      "outputs": [
        {
          "output_type": "stream",
          "text": [
            "11 2 7 9 12 -8 3 -1\n",
            "2\n",
            "33\n"
          ],
          "name": "stdout"
        }
      ]
    },
    {
      "cell_type": "code",
      "metadata": {
        "colab": {
          "base_uri": "https://localhost:8080/"
        },
        "id": "7nLVanLt0lg9",
        "outputId": "d79b63b2-be84-4ca2-c4a4-bb1f86ef7dce"
      },
      "source": [
        "# Q5 slide 14\n",
        "a,b,c=input().split()\n",
        "print((a+\"'\"+b+'\"'+c)*10)"
      ],
      "execution_count": null,
      "outputs": [
        {
          "output_type": "stream",
          "text": [
            "j h g\n",
            "j'h\"gj'h\"gj'h\"gj'h\"gj'h\"gj'h\"gj'h\"gj'h\"gj'h\"gj'h\"g\n"
          ],
          "name": "stdout"
        }
      ]
    },
    {
      "cell_type": "code",
      "metadata": {
        "colab": {
          "base_uri": "https://localhost:8080/"
        },
        "id": "kOyWaDF11P7k",
        "outputId": "ef57687b-a7a7-4be4-e1a6-027371f01ed5"
      },
      "source": [
        "#Q6 slide 15\n",
        "x=int(input())\n",
        "c=range(1,x)\n",
        "\n",
        "print(sum(c))"
      ],
      "execution_count": null,
      "outputs": [
        {
          "output_type": "stream",
          "text": [
            "27\n",
            "351\n"
          ],
          "name": "stdout"
        }
      ]
    },
    {
      "cell_type": "code",
      "metadata": {
        "colab": {
          "base_uri": "https://localhost:8080/"
        },
        "id": "mWa23F174Zq9",
        "outputId": "439c9792-61d3-4f52-d75c-6e8337112927"
      },
      "source": [
        "#Q7 slide 17\n",
        "li=[1,2,3,4,4,4,5]\n",
        "sets=set(li)\n",
        "print(sets)"
      ],
      "execution_count": null,
      "outputs": [
        {
          "output_type": "stream",
          "text": [
            "{1, 2, 3, 4, 5}\n"
          ],
          "name": "stdout"
        }
      ]
    },
    {
      "cell_type": "code",
      "metadata": {
        "colab": {
          "base_uri": "https://localhost:8080/"
        },
        "id": "kv92HJwr48Fx",
        "outputId": "63dcb70b-c152-4db8-e0fa-0fc635994465"
      },
      "source": [
        "#Q18 slide 18\n",
        "\n",
        "list0ne=[3,6,9,12,15,18,21]\n",
        "listtwo=[4,8,12,16,20,24,28]\n",
        "newlist1=[]\n",
        "newlist2=[]\n",
        "\n",
        "for index , value in enumerate(list0ne):\n",
        "  \n",
        "  if index %2!=0:\n",
        "    newlist1.append(value)\n",
        "    \n",
        "\n",
        "for index , value in enumerate(listtwo):\n",
        "  \n",
        "  if index %2==0:\n",
        "     newlist2.append(value)\n",
        "print(newlist1+newlist2)"
      ],
      "execution_count": null,
      "outputs": [
        {
          "output_type": "stream",
          "text": [
            "[6, 12, 18, 4, 12, 20, 28]\n"
          ],
          "name": "stdout"
        }
      ]
    },
    {
      "cell_type": "code",
      "metadata": {
        "colab": {
          "base_uri": "https://localhost:8080/"
        },
        "id": "OgknbLOo-vdh",
        "outputId": "bad506a3-2aeb-4c4b-b921-0c2da78770f4"
      },
      "source": [
        "#Q19 slide 20\n",
        "ls=[100,200,300,400,500]\n",
        "print(list(reversed(ls)))"
      ],
      "execution_count": null,
      "outputs": [
        {
          "output_type": "stream",
          "text": [
            "[500, 400, 300, 200, 100]\n"
          ],
          "name": "stdout"
        }
      ]
    },
    {
      "cell_type": "code",
      "metadata": {
        "colab": {
          "base_uri": "https://localhost:8080/"
        },
        "id": "z6ktlJKd_TpV",
        "outputId": "7e26e00d-9587-4ff5-9487-bf5ec609f636"
      },
      "source": [
        "#Q20 slide 21\n",
        "lst=[10,20,[300,400,[5000,6000],500],30,40]\n",
        "lst[2][2].append(7000)\n",
        "print(lst)"
      ],
      "execution_count": null,
      "outputs": [
        {
          "output_type": "stream",
          "text": [
            "[10, 20, [300, 400, [5000, 6000, 7000], 500], 30, 40]\n"
          ],
          "name": "stdout"
        }
      ]
    },
    {
      "cell_type": "code",
      "metadata": {
        "colab": {
          "base_uri": "https://localhost:8080/"
        },
        "id": "y-2mjVrqALtt",
        "outputId": "4e47164e-3096-4eb0-d90d-ec85030a7508"
      },
      "source": [
        "#Q21 slide 22\n",
        "lst=['a','b',['c',['d','e',['f','g'],'k'],'I'],'m','n']\n",
        "lst2=['h','i','j']\n",
        "lst[2][1][2].extend(lst2)\n",
        "print(lst)"
      ],
      "execution_count": null,
      "outputs": [
        {
          "output_type": "stream",
          "text": [
            "['a', 'b', ['c', ['d', 'e', ['f', 'g', 'h', 'i', 'j'], 'k'], 'I'], 'm', 'n']\n"
          ],
          "name": "stdout"
        }
      ]
    },
    {
      "cell_type": "code",
      "metadata": {
        "colab": {
          "base_uri": "https://localhost:8080/"
        },
        "id": "BVSbuCo2BYBb",
        "outputId": "e57da8d3-5037-4b3d-bde7-db2b8b473493"
      },
      "source": [
        "#Q22 slide 23\n",
        "li=[5,10,15,20,25,50,20]\n",
        "for item in range(len(li)):\n",
        "  if li[item]==20:\n",
        "      li[item]=20*10\n",
        "      break\n",
        "print(li)\n",
        "     \n",
        "\n"
      ],
      "execution_count": null,
      "outputs": [
        {
          "output_type": "stream",
          "text": [
            "[5, 10, 15, 200, 25, 50, 20]\n"
          ],
          "name": "stdout"
        }
      ]
    },
    {
      "cell_type": "code",
      "metadata": {
        "colab": {
          "base_uri": "https://localhost:8080/"
        },
        "id": "xeLdEWFNDT12",
        "outputId": "f20febf4-664c-4490-fda6-ad190e0d984d"
      },
      "source": [
        "#Q23 slide 24\n",
        "li=[\"Mike\", \"\", \"Emma\", \"Kelly\", \"\", \"Brad\"]\n",
        "while '' in li:\n",
        "  li.remove(\"\")\n",
        "li"
      ],
      "execution_count": null,
      "outputs": [
        {
          "output_type": "execute_result",
          "data": {
            "text/plain": [
              "['Mike', 'Emma', 'Kelly', 'Brad']"
            ]
          },
          "metadata": {
            "tags": []
          },
          "execution_count": 63
        }
      ]
    }
  ]
}