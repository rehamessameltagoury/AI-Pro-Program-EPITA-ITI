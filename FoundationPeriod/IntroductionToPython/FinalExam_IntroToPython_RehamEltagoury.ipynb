{
  "nbformat": 4,
  "nbformat_minor": 0,
  "metadata": {
    "kernelspec": {
      "display_name": "Python 3",
      "language": "python",
      "name": "python3"
    },
    "language_info": {
      "codemirror_mode": {
        "name": "ipython",
        "version": 3
      },
      "file_extension": ".py",
      "mimetype": "text/x-python",
      "name": "python",
      "nbconvert_exporter": "python",
      "pygments_lexer": "ipython3",
      "version": "3.9.0"
    },
    "colab": {
      "name": "FinalExam_IntroToPython_RehamEltagoury.ipynb",
      "provenance": []
    }
  },
  "cells": [
    {
      "cell_type": "markdown",
      "metadata": {
        "id": "zgh-3W0-_4WL"
      },
      "source": [
        "## Exam Code Done By Reham Essam Eldin ElTagoury \n",
        "## Group 5"
      ]
    },
    {
      "cell_type": "markdown",
      "metadata": {
        "id": "LBF0Yt2r_4WP"
      },
      "source": [
        "## Q4"
      ]
    },
    {
      "cell_type": "code",
      "metadata": {
        "colab": {
          "base_uri": "https://localhost:8080/"
        },
        "id": "WNYk_u_4_4WQ",
        "outputId": "514c274e-f2c0-4989-93cc-baad940f680b"
      },
      "source": [
        "ls=[1,5,11,5]\n",
        "k=16\n",
        "f=False\n",
        "for i in range(len(ls)-1):\n",
        "    if (ls[i]+ls[i+1])==16:\n",
        "        f=True\n",
        "      \n",
        "    else:\n",
        "        i+=1\n",
        "if f == True:\n",
        "    print(True)\n",
        "else:\n",
        "    print(False)"
      ],
      "execution_count": 1,
      "outputs": [
        {
          "output_type": "stream",
          "text": [
            "True\n"
          ],
          "name": "stdout"
        }
      ]
    },
    {
      "cell_type": "markdown",
      "metadata": {
        "id": "IozSJfYa_4WR"
      },
      "source": [
        "## Q2"
      ]
    },
    {
      "cell_type": "code",
      "metadata": {
        "colab": {
          "base_uri": "https://localhost:8080/"
        },
        "id": "BP_qk106_4WS",
        "outputId": "919267f4-3d01-4c3e-a837-e234fbeb3d41"
      },
      "source": [
        "head=[1,0,0,1,0,0,1,1,1,0,0,0,0,0,0]\n",
        "# head=[0]\n",
        "# head=[1]\n",
        "# head=[0,0]\n",
        "# head=[1,0,1]\n",
        "def decimal(x):\n",
        "    bin_ls=x[::-1]\n",
        "    dec=0\n",
        "    for i in range(len(bin_ls)):\n",
        "        dec+=bin_ls[i]*(2**i)\n",
        "    return dec\n",
        "output=decimal(head)\n",
        "print(output)"
      ],
      "execution_count": 2,
      "outputs": [
        {
          "output_type": "stream",
          "text": [
            "18880\n"
          ],
          "name": "stdout"
        }
      ]
    },
    {
      "cell_type": "markdown",
      "metadata": {
        "id": "vswI3_q1_4WS"
      },
      "source": [
        "## Q5"
      ]
    },
    {
      "cell_type": "code",
      "metadata": {
        "colab": {
          "base_uri": "https://localhost:8080/"
        },
        "id": "nrDj6Ac1_4WT",
        "outputId": "aa5175ea-49b7-49e6-b6b8-4d57441f7cbb"
      },
      "source": [
        "k=7 # non negative number\n",
        "def isprime(k):\n",
        "    for i in range(2,k):\n",
        "        if k%i==0:\n",
        "            return False\n",
        "    return True\n",
        "count=1\n",
        "if k==1:\n",
        "    count=1\n",
        "else:\n",
        "    num_less=list(range(2,k))\n",
        "    for i in num_less:\n",
        "        if isprime(i)==True:\n",
        "            count+=1\n",
        "    print(count)"
      ],
      "execution_count": 3,
      "outputs": [
        {
          "output_type": "stream",
          "text": [
            "4\n"
          ],
          "name": "stdout"
        }
      ]
    },
    {
      "cell_type": "markdown",
      "metadata": {
        "id": "n7I6QQYu_4WT"
      },
      "source": [
        "# Section 2\n",
        "## Q6"
      ]
    },
    {
      "cell_type": "code",
      "metadata": {
        "id": "H8YWeUxS_4WU"
      },
      "source": [
        "class Person():\n",
        "    def __init__(self,F_name,L_name,YOB,Nationality,job):\n",
        "        self.F_name=F_name\n",
        "        self.L_name=L_name\n",
        "        self.YOB=YOB\n",
        "        self.Nationality=Nationality\n",
        "        self.job=job\n",
        "class Customer(Person):\n",
        "    def __init__(self,F_name,L_name,YOB,Nationality,job,cPc_name,P_num,cs_type,dep):\n",
        "        super().__init__(F_name, L_name, YOB,Nationality,job)\n",
        "        self.cs_type=cs_type\n",
        "        self.cPc_name=cPc_name\n",
        "        self.P_num=P_num\n",
        "        self.dep=0\n",
        "    def deposit(self,amt):\n",
        "        self.dep=amt\n",
        "        self.cs_type=\"Active\"\n",
        "    def withdraw(self,amt):\n",
        "        \n",
        "        if self.dep >=amt:\n",
        "            self.dep=self.dep-amt\n",
        "        else:\n",
        "            if self.dep<=0:\n",
        "                 self.cs_type=\"InActive\"\n",
        "                \n",
        "            print( \"Error\")\n",
        "    def print(self):\n",
        "        print(self.cs_type)\n",
        "        print(\"Details: \" + str(self.F_name)+\" \"+str(self.L_name) +\" \"+ str(self.YOB)+\" \"+str(self.Nationality)+\" \"+str(self.job)+\" \"+\n",
        "             str( self.job)+\" \"+str(self.P_num)+\" \"+str(self.dep))\n"
      ],
      "execution_count": 4,
      "outputs": []
    },
    {
      "cell_type": "code",
      "metadata": {
        "id": "n_hiqR7l_4WU"
      },
      "source": [
        "z=Customer(\"mohamed\",\"ahmed\",\"2010\",\"Egyptian\",\"Accountant\",\"VIP\",\"Eco Co.\",\"0202038\",\"Active\")"
      ],
      "execution_count": 5,
      "outputs": []
    },
    {
      "cell_type": "code",
      "metadata": {
        "colab": {
          "base_uri": "https://localhost:8080/"
        },
        "id": "7ka1uyfq_4WV",
        "outputId": "1ececf10-e2fa-4cd1-cfb7-439a4bf8665c"
      },
      "source": [
        "print(z.dep)\n",
        "z.withdraw(757)\n",
        "Acount_status=z.cs_type\n",
        "print(Acount_status)\n"
      ],
      "execution_count": 6,
      "outputs": [
        {
          "output_type": "stream",
          "text": [
            "0\n",
            "Error\n",
            "InActive\n"
          ],
          "name": "stdout"
        }
      ]
    },
    {
      "cell_type": "code",
      "metadata": {
        "colab": {
          "base_uri": "https://localhost:8080/"
        },
        "id": "1GAkGvyD_4WV",
        "outputId": "159ea521-11bc-404f-9214-2ec934018018"
      },
      "source": [
        "z.deposit(757)\n",
        "print(z.cs_type)"
      ],
      "execution_count": 7,
      "outputs": [
        {
          "output_type": "stream",
          "text": [
            "Active\n"
          ],
          "name": "stdout"
        }
      ]
    },
    {
      "cell_type": "code",
      "metadata": {
        "colab": {
          "base_uri": "https://localhost:8080/"
        },
        "id": "VwpxAdU-_4WW",
        "outputId": "257d7a57-d4f6-49d3-e562-8ae32a3a9052"
      },
      "source": [
        "z.withdraw(757)\n",
        "print(Acount_status)"
      ],
      "execution_count": 8,
      "outputs": [
        {
          "output_type": "stream",
          "text": [
            "InActive\n"
          ],
          "name": "stdout"
        }
      ]
    },
    {
      "cell_type": "code",
      "metadata": {
        "colab": {
          "base_uri": "https://localhost:8080/"
        },
        "id": "Xtx6HU9p_4WW",
        "outputId": "9cec4795-871e-41c9-d533-28ce80d24ba5"
      },
      "source": [
        "print(z.dep)"
      ],
      "execution_count": 9,
      "outputs": [
        {
          "output_type": "stream",
          "text": [
            "0\n"
          ],
          "name": "stdout"
        }
      ]
    },
    {
      "cell_type": "code",
      "metadata": {
        "colab": {
          "base_uri": "https://localhost:8080/"
        },
        "id": "JPXUlb2x_4WW",
        "outputId": "76fb8341-8c7f-4f34-d417-99cb1558c8ea"
      },
      "source": [
        "z.deposit(100)\n",
        "print(z.dep)"
      ],
      "execution_count": 10,
      "outputs": [
        {
          "output_type": "stream",
          "text": [
            "100\n"
          ],
          "name": "stdout"
        }
      ]
    },
    {
      "cell_type": "code",
      "metadata": {
        "colab": {
          "base_uri": "https://localhost:8080/"
        },
        "id": "fXXcM6Ax_4WX",
        "outputId": "1c944ed7-f160-4cf2-f9f3-b1d45e4ed188"
      },
      "source": [
        "z.withdraw(200)"
      ],
      "execution_count": 11,
      "outputs": [
        {
          "output_type": "stream",
          "text": [
            "Error\n"
          ],
          "name": "stdout"
        }
      ]
    },
    {
      "cell_type": "code",
      "metadata": {
        "colab": {
          "base_uri": "https://localhost:8080/"
        },
        "id": "gWc6cyap_4WX",
        "outputId": "31be6756-5375-4255-e931-4720ed9b125f"
      },
      "source": [
        "print(z)"
      ],
      "execution_count": 12,
      "outputs": [
        {
          "output_type": "stream",
          "text": [
            "<__main__.Customer object at 0x7f1f1be1ed10>\n"
          ],
          "name": "stdout"
        }
      ]
    },
    {
      "cell_type": "code",
      "metadata": {
        "colab": {
          "base_uri": "https://localhost:8080/"
        },
        "id": "aCmmW_Zv_4WY",
        "outputId": "912a090a-1d52-4863-9d4e-031bd56dfe27"
      },
      "source": [
        "print(z.dep)"
      ],
      "execution_count": 13,
      "outputs": [
        {
          "output_type": "stream",
          "text": [
            "100\n"
          ],
          "name": "stdout"
        }
      ]
    },
    {
      "cell_type": "code",
      "metadata": {
        "colab": {
          "base_uri": "https://localhost:8080/"
        },
        "id": "lHMxRUut_4WY",
        "outputId": "4445b1ed-aa89-4997-8907-833f05a84613"
      },
      "source": [
        "z.withdraw(1000)"
      ],
      "execution_count": 14,
      "outputs": [
        {
          "output_type": "stream",
          "text": [
            "Error\n"
          ],
          "name": "stdout"
        }
      ]
    },
    {
      "cell_type": "markdown",
      "metadata": {
        "id": "cpz6IVI9_4WY"
      },
      "source": [
        "## Q7"
      ]
    },
    {
      "cell_type": "code",
      "metadata": {
        "colab": {
          "base_uri": "https://localhost:8080/"
        },
        "id": "qEqEvXBt_4WY",
        "outputId": "362904f9-697e-4e8f-a62b-70c76dcb6232"
      },
      "source": [
        "fil=open('steps.txt')\n",
        "li=[]\n",
        "list_new=[]\n",
        "# reading the files\n",
        "for line in fil:\n",
        "    li.append(line.split('\\n'))\n",
        "# pareparing a list of number of steps so I can loop on it\n",
        "for i in li:\n",
        "    list_new.append(i[0])\n",
        "num_steps=0\n",
        "\n",
        "for j in range(12):\n",
        "    # months\n",
        "    if j==2:\n",
        "        # febrarury\n",
        "        for i in range(28):\n",
        "            # Days\n",
        "            num_steps+=int(list_new[i])\n",
        "        print(\"Month {} of Average : {}\".format(int(j+1),num_steps/28))\n",
        "    else:\n",
        "        if j%2!=0 or j==8 or j==10 or j==12:\n",
        "          ## even ## 31 days\n",
        "          for i in range(31):\n",
        "                #31 days\n",
        "                num_steps+=int(list_new[i])\n",
        "          print(\"Month {} of Average : {}\".format(int(j+1),num_steps/31))\n",
        "        else:\n",
        "          for i in range(30):\n",
        "                #30 days\n",
        "                num_steps+=int(list_new[i])\n",
        "          print(\"Month {} of Average : {}\".format(int(j+1),num_steps/30))"
      ],
      "execution_count": 15,
      "outputs": [
        {
          "output_type": "stream",
          "text": [
            "Month 1 of Average : 5355.3\n",
            "Month 2 of Average : 10428.645161290322\n",
            "Month 3 of Average : 16692.5\n",
            "Month 4 of Average : 20323.1935483871\n",
            "Month 5 of Average : 26355.933333333334\n",
            "Month 6 of Average : 30751.83870967742\n",
            "Month 7 of Average : 37132.2\n",
            "Month 8 of Average : 41180.48387096774\n",
            "Month 9 of Average : 46426.58064516129\n",
            "Month 10 of Average : 51672.67741935484\n",
            "Month 11 of Average : 56918.77419354839\n",
            "Month 12 of Average : 62164.87096774193\n"
          ],
          "name": "stdout"
        }
      ]
    }
  ]
}