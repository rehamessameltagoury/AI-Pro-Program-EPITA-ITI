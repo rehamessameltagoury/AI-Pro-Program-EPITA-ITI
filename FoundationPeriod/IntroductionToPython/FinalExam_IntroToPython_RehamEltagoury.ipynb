{
 "cells": [
  {
   "cell_type": "markdown",
   "metadata": {},
   "source": [
    "## Exam Code Done By Reham Essam Eldin ElTagoury \n",
    "## Group 5"
   ]
  },
  {
   "cell_type": "markdown",
   "metadata": {},
   "source": [
    "## Q4"
   ]
  },
  {
   "cell_type": "code",
   "execution_count": 193,
   "metadata": {},
   "outputs": [
    {
     "name": "stdout",
     "output_type": "stream",
     "text": [
      "True\n"
     ]
    }
   ],
   "source": [
    "ls=[1,5,11,5]\n",
    "k=16\n",
    "f=False\n",
    "for i in range(len(ls)-1):\n",
    "    if (ls[i]+ls[i+1])==16:\n",
    "        f=True\n",
    "      \n",
    "    else:\n",
    "        i+=1\n",
    "if f == True:\n",
    "    print(True)\n",
    "else:\n",
    "    print(False)"
   ]
  },
  {
   "cell_type": "markdown",
   "metadata": {},
   "source": [
    "## Q2"
   ]
  },
  {
   "cell_type": "code",
   "execution_count": 195,
   "metadata": {},
   "outputs": [
    {
     "name": "stdout",
     "output_type": "stream",
     "text": [
      "18880\n"
     ]
    }
   ],
   "source": [
    "head=[1,0,0,1,0,0,1,1,1,0,0,0,0,0,0]\n",
    "# head=[0]\n",
    "# head=[1]\n",
    "# head=[0,0]\n",
    "# head=[1,0,1]\n",
    "def decimal(x):\n",
    "    bin_ls=x[::-1]\n",
    "    dec=0\n",
    "    for i in range(len(bin_ls)):\n",
    "        dec+=bin_ls[i]*(2**i)\n",
    "    return dec\n",
    "output=decimal(head)\n",
    "print(output)"
   ]
  },
  {
   "cell_type": "markdown",
   "metadata": {},
   "source": [
    "## Q5"
   ]
  },
  {
   "cell_type": "code",
   "execution_count": 201,
   "metadata": {},
   "outputs": [
    {
     "name": "stdout",
     "output_type": "stream",
     "text": [
      "3\n"
     ]
    }
   ],
   "source": [
    "k=7 # non negative number\n",
    "def isprime(k):\n",
    "    for i in range(2,k):\n",
    "        if k%i==0:\n",
    "            return False\n",
    "\n",
    "        else:\n",
    "            return True\n",
    "count=1\n",
    "if k==1:\n",
    "    count=1\n",
    "else:\n",
    "    num_less=list(range(2,k))\n",
    "    for i in num_less:\n",
    "        if isprime(i)==True:\n",
    "            count+=1\n",
    "    print(count)"
   ]
  },
  {
   "cell_type": "markdown",
   "metadata": {},
   "source": [
    "# Section 2\n",
    "## Q6"
   ]
  },
  {
   "cell_type": "code",
   "execution_count": 82,
   "metadata": {},
   "outputs": [],
   "source": [
    "class Person():\n",
    "    def __init__(self,F_name,L_name,YOB,Nationality,job):\n",
    "        self.F_name=F_name\n",
    "        self.L_name=L_name\n",
    "        self.YOB=YOB\n",
    "        self.Nationality=Nationality\n",
    "        self.job=job\n",
    "class Customer(Person):\n",
    "    def __init__(self,F_name,L_name,YOB,Nationality,job,cPc_name,P_num,cs_type,dep):\n",
    "        super().__init__(F_name, L_name, YOB,Nationality,job)\n",
    "        self.cs_type=cs_type\n",
    "        self.cPc_name=cPc_name\n",
    "        self.P_num=P_num\n",
    "        self.dep=0\n",
    "    def deposit(self,amt):\n",
    "        self.dep=amt\n",
    "        self.cs_type=\"Active\"\n",
    "    def withdraw(self,amt):\n",
    "        \n",
    "        if self.dep >=amt:\n",
    "            self.dep=self.dep-amt\n",
    "        else:\n",
    "            if self.dep<=0:\n",
    "                 self.cs_type=\"InActive\"\n",
    "                \n",
    "            print( \"Error\")\n",
    "    def prnt(self):\n",
    "        print(self.cs_type)\n",
    "        print(\"Details: \" + str(self.F_name)+\" \"+str(self.L_name) +\" \"+ str(self.YOB)+\" \"+str(self.Nationality)+\" \"+str(self.job)+\" \"+\n",
    "             str( self.job)+\" \"+str(self.P_num)+\" \"+str(self.dep))\n"
   ]
  },
  {
   "cell_type": "code",
   "execution_count": 83,
   "metadata": {},
   "outputs": [],
   "source": [
    "z=Customer(\"mohamed\",\"ahmed\",\"2010\",\"Egyptian\",\"Accountant\",\"VIP\",\"Eco Co.\",\"0202038\",\"Active\")"
   ]
  },
  {
   "cell_type": "code",
   "execution_count": 84,
   "metadata": {},
   "outputs": [
    {
     "name": "stdout",
     "output_type": "stream",
     "text": [
      "0\n",
      "Error\n",
      "InActive\n"
     ]
    }
   ],
   "source": [
    "print(z.dep)\n",
    "z.withdraw(757)\n",
    "Acount_status=z.cs_type\n",
    "print(Acount_status)\n"
   ]
  },
  {
   "cell_type": "code",
   "execution_count": 85,
   "metadata": {},
   "outputs": [
    {
     "name": "stdout",
     "output_type": "stream",
     "text": [
      "Active\n"
     ]
    }
   ],
   "source": [
    "z.deposit(757)\n",
    "print(z.cs_type)"
   ]
  },
  {
   "cell_type": "code",
   "execution_count": 86,
   "metadata": {},
   "outputs": [
    {
     "name": "stdout",
     "output_type": "stream",
     "text": [
      "InActive\n"
     ]
    }
   ],
   "source": [
    "z.withdraw(757)\n",
    "print(Acount_status)"
   ]
  },
  {
   "cell_type": "code",
   "execution_count": 87,
   "metadata": {},
   "outputs": [
    {
     "name": "stdout",
     "output_type": "stream",
     "text": [
      "0\n"
     ]
    }
   ],
   "source": [
    "print(z.dep)"
   ]
  },
  {
   "cell_type": "code",
   "execution_count": 88,
   "metadata": {},
   "outputs": [
    {
     "name": "stdout",
     "output_type": "stream",
     "text": [
      "100\n"
     ]
    }
   ],
   "source": [
    "z.deposit(100)\n",
    "print(z.dep)"
   ]
  },
  {
   "cell_type": "code",
   "execution_count": 89,
   "metadata": {},
   "outputs": [
    {
     "name": "stdout",
     "output_type": "stream",
     "text": [
      "Error\n"
     ]
    }
   ],
   "source": [
    "z.withdraw(200)"
   ]
  },
  {
   "cell_type": "code",
   "execution_count": 90,
   "metadata": {},
   "outputs": [
    {
     "name": "stdout",
     "output_type": "stream",
     "text": [
      "<__main__.Customer object at 0x0000020E3792EE80>\n"
     ]
    }
   ],
   "source": [
    "print(z)"
   ]
  },
  {
   "cell_type": "code",
   "execution_count": 91,
   "metadata": {},
   "outputs": [
    {
     "name": "stdout",
     "output_type": "stream",
     "text": [
      "100\n"
     ]
    }
   ],
   "source": [
    "print(z.dep)"
   ]
  },
  {
   "cell_type": "code",
   "execution_count": 92,
   "metadata": {},
   "outputs": [
    {
     "name": "stdout",
     "output_type": "stream",
     "text": [
      "Error\n"
     ]
    }
   ],
   "source": [
    "z.withdraw(1000)"
   ]
  },
  {
   "cell_type": "markdown",
   "metadata": {},
   "source": [
    "## Q7"
   ]
  },
  {
   "cell_type": "code",
   "execution_count": 190,
   "metadata": {},
   "outputs": [
    {
     "name": "stdout",
     "output_type": "stream",
     "text": [
      "Month 1 of Average : 5355.3\n",
      "Month 2 of Average : 10158.7\n",
      "Month 3 of Average : 15514.0\n",
      "Month 4 of Average : 20869.3\n",
      "Month 5 of Average : 26224.6\n",
      "Month 6 of Average : 31579.9\n",
      "Month 7 of Average : 36935.2\n",
      "Month 8 of Average : 42290.5\n",
      "Month 9 of Average : 47645.8\n",
      "Month 10 of Average : 53001.1\n",
      "Month 11 of Average : 58356.4\n",
      "Month 12 of Average : 63711.7\n"
     ]
    }
   ],
   "source": [
    "fil=open('steps.txt')\n",
    "li=[]\n",
    "list_new=[]\n",
    "# reading the files\n",
    "for line in fil:\n",
    "    li.append(line.split('\\n'))\n",
    "# pareparing a list of number of steps so I can loop on it\n",
    "for i in li:\n",
    "    list_new.append(i[0])\n",
    "num_steps=0\n",
    "\n",
    "for j in range(12):\n",
    "    # months\n",
    "    if j==1:\n",
    "        # febrarury\n",
    "        for i in range(28):\n",
    "            # Days\n",
    "            num_steps+=int(list_new[i])\n",
    "        print(\"Month {} of Average : {}\".format(int(j+1),num_steps/30))\n",
    "    else:\n",
    "        for i in range(30):\n",
    "            # days\n",
    "            num_steps+=int(list_new[i])\n",
    "        print(\"Month {} of Average : {}\".format(int(j+1),num_steps/30))"
   ]
  }
 ],
 "metadata": {
  "kernelspec": {
   "display_name": "Python 3",
   "language": "python",
   "name": "python3"
  },
  "language_info": {
   "codemirror_mode": {
    "name": "ipython",
    "version": 3
   },
   "file_extension": ".py",
   "mimetype": "text/x-python",
   "name": "python",
   "nbconvert_exporter": "python",
   "pygments_lexer": "ipython3",
   "version": "3.9.0"
  }
 },
 "nbformat": 4,
 "nbformat_minor": 4
}
