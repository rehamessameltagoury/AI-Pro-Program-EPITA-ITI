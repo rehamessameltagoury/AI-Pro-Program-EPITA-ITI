{
  "nbformat": 4,
  "nbformat_minor": 0,
  "metadata": {
    "colab": {
      "name": "lab2_IntrotoPython_ITI_4/12_RehamEltagoury.ipynb",
      "provenance": []
    },
    "kernelspec": {
      "name": "python3",
      "display_name": "Python 3"
    },
    "language_info": {
      "name": "python"
    }
  },
  "cells": [
    {
      "cell_type": "markdown",
      "metadata": {
        "id": "tUGSKiB8Ecdw"
      },
      "source": [
        "### Q1 Slide 3"
      ]
    },
    {
      "cell_type": "code",
      "metadata": {
        "colab": {
          "base_uri": "https://localhost:8080/"
        },
        "id": "o3lC6Qu8y2ox",
        "outputId": "04f8c11c-b0b7-493c-e40a-a18be78e0992"
      },
      "source": [
        "# Q1 Slide 3\n",
        "ls=[\"Homo sapiens\", \"Pan troglodytes\", \"Gorilla gorilla\"]\n",
        "for i in ls:\n",
        "  print(str(i)+\" is an ape. Its name starts with \"+str(i[0])+ \" Its name has \"+ str(len(i))+\" letters\")\n"
      ],
      "execution_count": null,
      "outputs": [
        {
          "output_type": "stream",
          "text": [
            "Homo sapiens is an ape. Its name starts with H Its name has 12 letters\n",
            "Pan troglodytes is an ape. Its name starts with P Its name has 15 letters\n",
            "Gorilla gorilla is an ape. Its name starts with G Its name has 15 letters\n"
          ],
          "name": "stdout"
        }
      ]
    },
    {
      "cell_type": "markdown",
      "metadata": {
        "id": "oXjZ61X0EZ6o"
      },
      "source": [
        "###  Q2 Slide 4"
      ]
    },
    {
      "cell_type": "code",
      "metadata": {
        "colab": {
          "base_uri": "https://localhost:8080/"
        },
        "id": "Y1qRMsNU2Q1r",
        "outputId": "07920575-a0f5-4a33-e473-689f165d3036"
      },
      "source": [
        "# Q2 Slide 4\n",
        "str1=\"\"\"ATTCGATTATAAGCTCGATCGATCGATCGATCGATCGATCGATCGATCGATCGATC\n",
        "ATTCGATTATAAGCACTGATCGATCGATCGATCGATCGATGCTATCGTCGT\n",
        "ATTCGATTATAAGCATCGATCACGATCTATCGTACGTATGCATATCGATATCGATCGTAGTC\n",
        "ATTCGATTATAAGCACTATCGATGATCTAGCTACGATCGTAGCTGTA\n",
        "ATTCGATTATAAGCACTAGCTAGTCTCGATGCATGATCAGCTTAGCTGATGATGCTATGCA\"\"\"\n",
        "str2=str1.split()\n",
        "new_str=[]\n",
        "inx=0\n",
        "for i in str2:\n",
        "  new_str.append(i[13:])\n",
        "  inx+=1\n",
        "for i in new_str:\n",
        "  print(\"Prosseced sequence with length \",len(i))"
      ],
      "execution_count": null,
      "outputs": [
        {
          "output_type": "stream",
          "text": [
            "Prosseced sequence with length  43\n",
            "Prosseced sequence with length  38\n",
            "Prosseced sequence with length  49\n",
            "Prosseced sequence with length  34\n",
            "Prosseced sequence with length  48\n"
          ],
          "name": "stdout"
        }
      ]
    },
    {
      "cell_type": "markdown",
      "metadata": {
        "id": "lObnlLK22eoh"
      },
      "source": [
        "### Q3 slide 5\n",
        "in the first pic (on the left) in each iteration the print statement will be exected while in the second pic(on the right) the print statement will execute just one time after the while is finished"
      ]
    },
    {
      "cell_type": "markdown",
      "metadata": {
        "id": "xfJQYMG2EPbK"
      },
      "source": [
        "### Farmer Problem"
      ]
    },
    {
      "cell_type": "code",
      "metadata": {
        "colab": {
          "base_uri": "https://localhost:8080/"
        },
        "id": "s6S2n2H924eV",
        "outputId": "01d339b2-2b8b-4066-ff9b-4c270a2dfe9e"
      },
      "source": [
        "# Farmer Problem\n",
        "# chicken  2 legs\n",
        "# cows 4 legs\n",
        "# pigs 4 legs\n",
        "def numoflegs(numchicken,numcows,numspigs):\n",
        "  return numchicken+numcows+numspigs\n",
        "a,b,c = map(int,input(\"please enter the subtotal of legs: \").split())\n",
        "print(\"Total number of legs: \",numoflegs(a,b,c))\n"
      ],
      "execution_count": null,
      "outputs": [
        {
          "output_type": "stream",
          "text": [
            "please enter the subtotal of legs: 4 2 4\n",
            "Total number of legs:  10\n"
          ],
          "name": "stdout"
        }
      ]
    },
    {
      "cell_type": "markdown",
      "metadata": {
        "id": "WMro63C6ES_S"
      },
      "source": [
        "### String Mutation"
      ]
    },
    {
      "cell_type": "code",
      "metadata": {
        "colab": {
          "base_uri": "https://localhost:8080/"
        },
        "id": "iGkMPwoT3nlu",
        "outputId": "651f5cda-8a69-4f40-b74b-a5461bd1f9fb"
      },
      "source": [
        "# String Mutation\n",
        "def tostrings(ls):\n",
        "  re=''\n",
        "  for i in ls:\n",
        "      re+=i\n",
        "  return re\n",
        "\n",
        "str_given,index,value=input().split(',')\n",
        "str_list=list(str_given)\n",
        "str_list[int(index)]=value\n",
        "out_list=tostrings(str_list)\n",
        "print(out_list)\n",
        "\n"
      ],
      "execution_count": null,
      "outputs": [
        {
          "output_type": "stream",
          "text": [
            "Abracadabra,5,k\n",
            "Abrackdabra\n"
          ],
          "name": "stdout"
        }
      ]
    },
    {
      "cell_type": "markdown",
      "metadata": {
        "id": "KU4-m1aJEVzg"
      },
      "source": [
        "### Rest of Lab 1"
      ]
    },
    {
      "cell_type": "code",
      "metadata": {
        "colab": {
          "base_uri": "https://localhost:8080/"
        },
        "id": "7epbvsyN8ycv",
        "outputId": "964f79db-9337-4f7d-9fa5-293b238bcd2b"
      },
      "source": [
        "# Slide 19 in lab 1\n",
        "list1=[2, 3, 4, 5, 6, 7, 8]\n",
        "list2=[4, 9, 16, 25, 36, 49, 64]\n",
        "set1=set(zip(list1,list2))\n",
        "print(set1)"
      ],
      "execution_count": null,
      "outputs": [
        {
          "output_type": "stream",
          "text": [
            "{(6, 36), (8, 64), (4, 16), (5, 25), (3, 9), (7, 49), (2, 4)}\n"
          ],
          "name": "stdout"
        }
      ]
    }
  ]
}