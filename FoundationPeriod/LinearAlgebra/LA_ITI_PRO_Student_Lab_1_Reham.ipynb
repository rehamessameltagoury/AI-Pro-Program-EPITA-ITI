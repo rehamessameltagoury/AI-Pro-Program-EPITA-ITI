{
  "nbformat": 4,
  "nbformat_minor": 0,
  "metadata": {
    "kernelspec": {
      "display_name": "Python 3",
      "language": "python",
      "name": "python3"
    },
    "language_info": {
      "codemirror_mode": {
        "name": "ipython",
        "version": 3
      },
      "file_extension": ".py",
      "mimetype": "text/x-python",
      "name": "python",
      "nbconvert_exporter": "python",
      "pygments_lexer": "ipython3",
      "version": "3.8.5"
    },
    "colab": {
      "name": "LA_ITI_PRO_Student_Lab_1_Reham.ipynb",
      "provenance": []
    }
  },
  "cells": [
    {
      "cell_type": "markdown",
      "metadata": {
        "id": "w6OWBD06xQ-r"
      },
      "source": [
        "# LAB 1: Matrix and Vector Computations in python\n",
        "\n",
        "In this lab you will use python to study the following topics:\n",
        "\n",
        "- How to create matrices and vectors in python.\n",
        "\n",
        "- How to manipulate matrices in python and create matrices of special types.\n",
        "\n",
        "- How to add matrices and multiply a vector by a matrix by python.\n",
        "\n",
        "- Apply linear transformation.\n"
      ]
    },
    {
      "cell_type": "markdown",
      "metadata": {
        "id": "TYzLAh_4xQ-y"
      },
      "source": [
        "# First: you should run this cell"
      ]
    },
    {
      "cell_type": "code",
      "metadata": {
        "id": "7-xALJKhxQ-z"
      },
      "source": [
        "# Make all numpy available via shorter 'np' prefix\n",
        "import numpy as np\n",
        "\n",
        "import matplotlib.pyplot as plt"
      ],
      "execution_count": null,
      "outputs": []
    },
    {
      "cell_type": "markdown",
      "metadata": {
        "id": "wmatcMqgxQ-z"
      },
      "source": [
        "# Question 1 :Declaring scalars, vectors, and matrices\n",
        "\n",
        "a) Use [numpy.array](https://numpy.org/doc/stable/reference/generated/numpy.array.html) to declare the following:\n",
        "\n",
        "1. A scalar $s = 5$\n",
        "2. A vector $v = \\begin{bmatrix} 5  \\\\ -2 \\\\ 4  \\\\ \\end{bmatrix}$\n",
        "3. A matrix $A = \\begin{bmatrix} 1 & 2 & 3  \\\\ 4 & 5 & 6 \\\\ 7 & 8 & 9  \\\\ \\end{bmatrix}$\n",
        "4. A matrix $B = \\begin{bmatrix} 1 & 2 & 3  \\\\ 4 & 5 & 6 \\\\ \\end{bmatrix}$\n",
        "5. A matrix $C = \\begin{bmatrix} 1 & 2   \\\\ 3 & 4  \\\\ 5 & 6   \\\\ \\end{bmatrix}$"
      ]
    },
    {
      "cell_type": "code",
      "metadata": {
        "id": "zFb7dDhaxQ-0",
        "colab": {
          "base_uri": "https://localhost:8080/"
        },
        "outputId": "e758eb3e-2ad1-4092-cc46-bfbbedb12548"
      },
      "source": [
        "#type your code here:\n",
        "s=np.array(5)\n",
        "v=np.array([[5],[-2],[4]])\n",
        "A=np.array([[1,2,3],[4,5,6],[7,8,9]])\n",
        "B=np.array([[1,2,3],[4,5,6]])\n",
        "C=np.array([[1,2],[3,4],[5,6]])\n",
        "print(\"s= \",s)\n",
        "print(\"v= \",v)\n",
        "print(\"A= \",A)\n",
        "print(\"B= \",B)\n",
        "print(\"C= \",C)\n"
      ],
      "execution_count": null,
      "outputs": [
        {
          "output_type": "stream",
          "text": [
            "s=  5\n",
            "v=  [[ 5]\n",
            " [-2]\n",
            " [ 4]]\n",
            "A=  [[1 2 3]\n",
            " [4 5 6]\n",
            " [7 8 9]]\n",
            "B=  [[1 2 3]\n",
            " [4 5 6]]\n",
            "C=  [[1 2]\n",
            " [3 4]\n",
            " [5 6]]\n"
          ],
          "name": "stdout"
        }
      ]
    },
    {
      "cell_type": "markdown",
      "metadata": {
        "id": "gY8vy7qbxQ-2"
      },
      "source": [
        "b) Print the data type of $s, v,$ and $A$ using `type` command in python."
      ]
    },
    {
      "cell_type": "code",
      "metadata": {
        "id": "ymAKNX3zxQ-3",
        "colab": {
          "base_uri": "https://localhost:8080/"
        },
        "outputId": "d50ccb88-9c33-4ab5-9207-c710d1636e58"
      },
      "source": [
        "#type your code here:\n",
        "print(\"type(s) = \",type(s))\n",
        "print(\"type(v) = \",type(v))\n",
        "print(\"type(A) = \",type(A))"
      ],
      "execution_count": null,
      "outputs": [
        {
          "output_type": "stream",
          "text": [
            "type(s) =  <class 'numpy.ndarray'>\n",
            "type(v) =  <class 'numpy.ndarray'>\n",
            "type(A) =  <class 'numpy.ndarray'>\n"
          ],
          "name": "stdout"
        }
      ]
    },
    {
      "cell_type": "markdown",
      "metadata": {
        "id": "xEptAYixxQ-3"
      },
      "source": [
        "c) Using [numpy.shape](https://numpy.org/devdocs/reference/generated/numpy.shape.html) or `A.shape` print the shape of $s, v, A, B,$ and $C$."
      ]
    },
    {
      "cell_type": "code",
      "metadata": {
        "id": "Yvpz-JrkxQ-4",
        "colab": {
          "base_uri": "https://localhost:8080/"
        },
        "outputId": "d14f8516-753a-4f31-c460-eb8a479ffd15"
      },
      "source": [
        "#type your code here:\n",
        "print(\"s.shape = \", s.shape)\n",
        "\n",
        "print(\"v.shape = \", v.shape)\n",
        "print(\"A.shape = \", A.shape)\n",
        "print(\"B.shape = \", B.shape)\n",
        "print(\"C.shape = \", C.shape)"
      ],
      "execution_count": null,
      "outputs": [
        {
          "output_type": "stream",
          "text": [
            "s.shape =  ()\n",
            "v.shape =  (3, 1)\n",
            "A.shape =  (3, 3)\n",
            "B.shape =  (2, 3)\n",
            "C.shape =  (3, 2)\n"
          ],
          "name": "stdout"
        }
      ]
    },
    {
      "cell_type": "markdown",
      "metadata": {
        "id": "ll-wHc_KxQ-4"
      },
      "source": [
        "d) To access a given entry in the `numpy array` put the `row number - 1` and `column number - 1` in square brackets following the array name. Ex `a32 = A[2, 1]`.\n",
        "- Print the value of the third row and the second column of the matrix $A$.\n",
        "- Change it to $10$.\n",
        "- Print the matrix A to check the entry is changed."
      ]
    },
    {
      "cell_type": "code",
      "metadata": {
        "id": "oimRXtNAxQ-5",
        "colab": {
          "base_uri": "https://localhost:8080/"
        },
        "outputId": "fb8d5fe3-59fc-432b-b8fc-663af0cf88e4"
      },
      "source": [
        "#type your code here:\n",
        "print(\"A[2][1] = \",A[2][1])\n",
        "A[2][1]=10\n",
        "print(\"A =\",A)"
      ],
      "execution_count": null,
      "outputs": [
        {
          "output_type": "stream",
          "text": [
            "A[2][1] =  8\n",
            "A = [[ 1  2  3]\n",
            " [ 4  5  6]\n",
            " [ 7 10  9]]\n"
          ],
          "name": "stdout"
        }
      ]
    },
    {
      "cell_type": "markdown",
      "metadata": {
        "id": "sEUKHOGExQ-5"
      },
      "source": [
        "e)To access a whole row or column of a matrix, use the colon operator. For example, `A[:, [1]]` is the second column of A, while `B[[1], :]` is the second row of B."
      ]
    },
    {
      "cell_type": "code",
      "metadata": {
        "id": "GlEjE6vAxQ-6",
        "colab": {
          "base_uri": "https://localhost:8080/"
        },
        "outputId": "60e4cdf0-3eab-4502-d090-3da549cf3786"
      },
      "source": [
        "#type your code here:\n",
        "print(\"A[:, [1]] = \",A[:, [1]])\n",
        "print(\"B[[1],:] = \",B[[1], :])"
      ],
      "execution_count": null,
      "outputs": [
        {
          "output_type": "stream",
          "text": [
            "A[:, [1]] =  [[ 2]\n",
            " [ 5]\n",
            " [10]]\n",
            "B[[1],:] =  [[4 5 6]]\n"
          ],
          "name": "stdout"
        }
      ]
    },
    {
      "cell_type": "markdown",
      "metadata": {
        "id": "B-XYqk_pxQ-8"
      },
      "source": [
        "f) Type each of the following commands that generate special matrices:\n",
        "- `np.eye(4), np.zeros(3), np.zeros((3, 1)), np.zeros((3, 5)), np.ones((2, 3)), and np.diag([4, 5, 6, 7])`"
      ]
    },
    {
      "cell_type": "code",
      "metadata": {
        "id": "SH-GsriZxQ-8",
        "colab": {
          "base_uri": "https://localhost:8080/"
        },
        "outputId": "de868ea7-f2b6-48c9-bcdf-f9dacb9645e4"
      },
      "source": [
        "#type your code here:\n",
        "print(\"np.eye(4) = \",np.eye(4))\n",
        "print(\"np.zeros(3) = \",np.zeros(3))\n",
        "print(\"np.zeros((3,5)) = \",np.zeros((3,5)))\n",
        "print(\"np.ones((2, 3)) = \",np.ones((2, 3)))\n",
        "print(\"np.diag([4, 5, 6, 7]) = \",np.diag([4, 5, 6, 7]))"
      ],
      "execution_count": null,
      "outputs": [
        {
          "output_type": "stream",
          "text": [
            "np.eye(4) =  [[1. 0. 0. 0.]\n",
            " [0. 1. 0. 0.]\n",
            " [0. 0. 1. 0.]\n",
            " [0. 0. 0. 1.]]\n",
            "np.zeros(3) =  [0. 0. 0.]\n",
            "np.zeros((3,5)) =  [[0. 0. 0. 0. 0.]\n",
            " [0. 0. 0. 0. 0.]\n",
            " [0. 0. 0. 0. 0.]]\n",
            "np.ones((2, 3)) =  [[1. 1. 1.]\n",
            " [1. 1. 1.]]\n",
            "np.diag([4, 5, 6, 7]) =  [[4 0 0 0]\n",
            " [0 5 0 0]\n",
            " [0 0 6 0]\n",
            " [0 0 0 7]]\n"
          ],
          "name": "stdout"
        }
      ]
    },
    {
      "cell_type": "markdown",
      "metadata": {
        "id": "krjI9cNMxQ-9"
      },
      "source": [
        "# Question 2. Vectors Addition, Scaling, and dot product"
      ]
    },
    {
      "cell_type": "markdown",
      "metadata": {
        "id": "HKcQndmHxQ-9"
      },
      "source": [
        "a) Declare vectors $v1 = \\begin{bmatrix} 1  \\\\ 2 \\\\ 7  \\\\ 4 \\\\ \\end{bmatrix}$ and $v2 = \\begin{bmatrix} 4  \\\\ 3 \\\\ 6  \\\\ 8 \\\\ \\end{bmatrix}$\n",
        "\n",
        "- Addition: $v1 + v2$\n",
        "- Subtraction: $v1 - v2$\n",
        "- Scaling by a number: $3 * v1$\n",
        "- Scaling by a number: $v1 / 2$"
      ]
    },
    {
      "cell_type": "code",
      "metadata": {
        "id": "3canOFeDxQ-9",
        "colab": {
          "base_uri": "https://localhost:8080/"
        },
        "outputId": "540720f1-bab7-4154-fd51-13030ef06c7f"
      },
      "source": [
        "#type your code here:\n",
        "v1=np.array([[1],[2],[7],[4]])\n",
        "v2=np.array([[4],[3],[6],[8]])\n",
        "print(\"v1 = \",v1)\n",
        "print(\"v2 = \",v2)\n",
        "print(\"v1 + v2 = \",v1+v2)\n",
        "print(\"v1 - v2 = \",v1-v2)\n",
        "print(\"3 * v1 = \",3*v1)\n",
        "print(\"v1 / 2 = \",v1/2)\n"
      ],
      "execution_count": null,
      "outputs": [
        {
          "output_type": "stream",
          "text": [
            "v1 =  [[1]\n",
            " [2]\n",
            " [7]\n",
            " [4]]\n",
            "v2 =  [[4]\n",
            " [3]\n",
            " [6]\n",
            " [8]]\n",
            "v1 + v2 =  [[ 5]\n",
            " [ 5]\n",
            " [13]\n",
            " [12]]\n",
            "v1 - v2 =  [[-3]\n",
            " [-1]\n",
            " [ 1]\n",
            " [-4]]\n",
            "3 * v1 =  [[ 3]\n",
            " [ 6]\n",
            " [21]\n",
            " [12]]\n",
            "v1 / 2 =  [[0.5]\n",
            " [1. ]\n",
            " [3.5]\n",
            " [2. ]]\n"
          ],
          "name": "stdout"
        }
      ]
    },
    {
      "cell_type": "markdown",
      "metadata": {
        "id": "O3EmqhBjxQ--"
      },
      "source": [
        "b) Find the dot product between the two vectors $v1$ and $v2$ using the following:\n",
        "\n",
        "- [numpy.dot](https://numpy.org/doc/stable/reference/generated/numpy.dot.html)\n",
        "- [numpy.matmul](https://numpy.org/doc/stable/reference/generated/numpy.matmul.html#numpy.matmul)\n",
        "- `v1.T @ v2`"
      ]
    },
    {
      "cell_type": "code",
      "metadata": {
        "id": "vkvefJd0xQ--",
        "colab": {
          "base_uri": "https://localhost:8080/"
        },
        "outputId": "acad65d2-57bf-4a53-a4d4-afe01da828a5"
      },
      "source": [
        "#type your code here:\n",
        "print(\"Using numpy.dot = \",np.dot(v1.T,v2))\n",
        "print(\"Using numpy.matmul = \",np.matmul(v1.T,v2))\n",
        "print(\"Using @ = \",v1.T @v2)"
      ],
      "execution_count": null,
      "outputs": [
        {
          "output_type": "stream",
          "text": [
            "Using numpy.dot =  [[84]]\n",
            "Using numpy.matmul =  [[84]]\n",
            "Using @ =  [[84]]\n"
          ],
          "name": "stdout"
        }
      ]
    },
    {
      "cell_type": "markdown",
      "metadata": {
        "id": "p3sZyHoOxQ-_"
      },
      "source": [
        "c) Find the length of the vectors $v1$ and $v2$.\n",
        "- Using [numpy.linalg.norm](https://numpy.org/doc/stable/reference/generated/numpy.linalg.norm.html)\n",
        "- Using the dot product and [numpy.sqrt](https://numpy.org/doc/stable/reference/generated/numpy.sqrt.html)\n"
      ]
    },
    {
      "cell_type": "code",
      "metadata": {
        "id": "a8n53cBVxQ-_",
        "colab": {
          "base_uri": "https://localhost:8080/"
        },
        "outputId": "759def18-1ebe-46d6-fbb3-b877425a5fda"
      },
      "source": [
        "#type your code here:\n",
        "print(\"length of v1 Using numpy.linalg.norm = \",np.linalg.norm(v1))\n",
        "print(\"length of v2 Using numpy.linalg.norm = \",np.linalg.norm(v2))\n",
        "print(\"length of v1 Using the dot product and numpy.sqrt = \",np.sqrt(v1.T @ v1))\n",
        "print(\"length of v2 Using the dot product and numpy.sqrt = \",np.sqrt(v2.T @ v2))"
      ],
      "execution_count": null,
      "outputs": [
        {
          "output_type": "stream",
          "text": [
            "length of v1 Using numpy.linalg.norm =  5.385164807134504\n",
            "length of v2 Using numpy.linalg.norm =  6.324555320336759\n",
            "length of v1 Using the dot product and numpy.sqrt =  [[5.38516481]]\n",
            "length of v2 Using the dot product and numpy.sqrt =  [[6.32455532]]\n"
          ],
          "name": "stdout"
        }
      ]
    },
    {
      "cell_type": "markdown",
      "metadata": {
        "id": "46HTvNWlxQ-_"
      },
      "source": [
        "d) Show that the vectors $u = \\begin{bmatrix} 3  \\\\ 2 \\\\ -1  \\\\ 4 \\\\ \\end{bmatrix}$ and $v = \\begin{bmatrix} 1  \\\\ -1 \\\\ 1  \\\\ 0 \\\\ \\end{bmatrix}$ are orthogonal.\n"
      ]
    },
    {
      "cell_type": "code",
      "metadata": {
        "id": "D4xMs4KlxQ_A",
        "colab": {
          "base_uri": "https://localhost:8080/"
        },
        "outputId": "11a643d6-bf2f-4aab-ce11-69c26b83c380"
      },
      "source": [
        "#type your code here:\n",
        "u=np.array([[3],[2],[-1],[4]])\n",
        "v=np.array([[1],[-1],[1],[0]])\n",
        "print(\"u.T @ v = \", u.T @ v)"
      ],
      "execution_count": null,
      "outputs": [
        {
          "output_type": "stream",
          "text": [
            "u.T @ v =  [[0]]\n"
          ],
          "name": "stdout"
        }
      ]
    },
    {
      "cell_type": "markdown",
      "metadata": {
        "id": "wSy8BSxRxQ_A"
      },
      "source": [
        "# Question 3. Matrix Addition and Matrix-Vector Multiplication\n",
        "\n",
        "Declare vectors $u$ and $v$ and matrices $A$ and $B$ as following:\n",
        "- $u = \\begin{bmatrix} 2  \\\\ 7 \\\\ 2 \\\\ \\end{bmatrix}$, $v = \\begin{bmatrix} 8  \\\\ 2 \\\\ 4 \\\\ \\end{bmatrix}$\n",
        "- $A = \\begin{bmatrix} 7 & 3 & 5  \\\\ 4 & 6 & 2 \\\\ \\end{bmatrix}$, $B = \\begin{bmatrix} 0 & 6 & 4  \\\\ 2 & 3 & 0 \\\\ \\end{bmatrix}$\n",
        "\n",
        "a) Calculate the following using python.\n",
        "\n",
        "- $A+B$\n",
        "- $B+A$\n",
        "- $3A$\n",
        "- $6B$\n",
        "- $2(3B)$\n",
        "- $6A+15B$\n",
        "- $3(2A+5B)$"
      ]
    },
    {
      "cell_type": "code",
      "metadata": {
        "id": "RGFBnxmPxQ_A",
        "colab": {
          "base_uri": "https://localhost:8080/"
        },
        "outputId": "09f1966a-94b9-4cbf-b5c4-e94992096d55"
      },
      "source": [
        "#type your code here:\n",
        "u=np.array([[2],[7],[2]])\n",
        "v=np.array([[8],[2],[4]])\n",
        "print(\"u = \",u)\n",
        "print(\"v = \",v)\n",
        "A=np.array([[7,3,5],[4,6,2]])\n",
        "B=np.array([[0,6,4],[2,3,0]])\n",
        "print(\"A = \",A)\n",
        "print(\"B = \",B)\n",
        "print(\"A + B = \",A+B)\n",
        "print(\"B + A = \",B+A)\n",
        "print(\"3A = \",3*A)\n",
        "print(\"6B = \",6*B)\n",
        "print(\"2(3B) = \",2*(3*B))\n",
        "print(\"6A + 15B = \",6*A+15*B)\n",
        "print(\"3(2A+5B) = \",3*(2*A+5*B))"
      ],
      "execution_count": null,
      "outputs": [
        {
          "output_type": "stream",
          "text": [
            "u =  [[2]\n",
            " [7]\n",
            " [2]]\n",
            "v =  [[8]\n",
            " [2]\n",
            " [4]]\n",
            "A =  [[7 3 5]\n",
            " [4 6 2]]\n",
            "B =  [[0 6 4]\n",
            " [2 3 0]]\n",
            "A + B =  [[7 9 9]\n",
            " [6 9 2]]\n",
            "B + A =  [[7 9 9]\n",
            " [6 9 2]]\n",
            "3A =  [[21  9 15]\n",
            " [12 18  6]]\n",
            "6B =  [[ 0 36 24]\n",
            " [12 18  0]]\n",
            "2(3B) =  [[ 0 36 24]\n",
            " [12 18  0]]\n",
            "6A + 15B =  [[ 42 108  90]\n",
            " [ 54  81  12]]\n",
            "3(2A+5B) =  [[ 42 108  90]\n",
            " [ 54  81  12]]\n"
          ],
          "name": "stdout"
        }
      ]
    },
    {
      "cell_type": "markdown",
      "metadata": {
        "id": "T9-8B_bexQ_A"
      },
      "source": [
        "b) To obtain the matrix-vector product $Au$ using python, type `A @ u`. Calculate the following:\n",
        "\n",
        "- $Au+Av$\n",
        "- $A(u+v)$\n",
        "- $(A+B)u$\n",
        "- $Au+Bu$\n",
        "- $A(3u)$\n",
        "- $3A(u)$"
      ]
    },
    {
      "cell_type": "code",
      "metadata": {
        "id": "IlrASFmtxQ_B",
        "colab": {
          "base_uri": "https://localhost:8080/"
        },
        "outputId": "606094fa-acb1-4df9-fb8c-974b79db3f0c"
      },
      "source": [
        "#type your code here:\n",
        "print(\"Au+Av = \",A@u+A@v)\n",
        "print(\"A(u+v) = \",A@(u+v))\n",
        "print(\"(A+B)u = \",(A+B)@u)\n",
        "print(\"Au+Bu \", A@u+B@u)\n",
        "print(\"A(3u) = \",A@(3*u))\n",
        "print(\"3A(u) = \",3*A@(u))"
      ],
      "execution_count": null,
      "outputs": [
        {
          "output_type": "stream",
          "text": [
            "Au+Av =  [[127]\n",
            " [106]]\n",
            "A(u+v) =  [[127]\n",
            " [106]]\n",
            "(A+B)u =  [[95]\n",
            " [79]]\n",
            "Au+Bu  [[95]\n",
            " [79]]\n",
            "A(3u) =  [[135]\n",
            " [162]]\n",
            "3A(u) =  [[135]\n",
            " [162]]\n"
          ],
          "name": "stdout"
        }
      ]
    },
    {
      "cell_type": "markdown",
      "metadata": {
        "id": "Pexm3ylixQ_B"
      },
      "source": [
        "# Question 4: Linear Transformation\n",
        "\n",
        "Declare a vector $v = \\begin{bmatrix} 5  \\\\ -2 \\\\ \\end{bmatrix}$\n",
        "\n",
        "a) Rotations: Generate a matrix Q and Let Q act on the vector\n",
        "\n",
        "$Q = \\begin{bmatrix} cos(\\theta) & -sin(\\theta)   \\\\ sin(\\theta) & cos(\\theta)    \\\\ \\end{bmatrix}$ where $\\theta = pi / 6$\n",
        "\n",
        "- Repeat with $\\theta = -pi/3$\n",
        "- Use [matplotlib.pyplot.quiver](https://matplotlib.org/stable/api/_as_gen/matplotlib.pyplot.quiver.html) to plot the vectors. Ex: `plt.quiver(v1[0], v1[1], angles='xy', scale_units='xy', scale=1, color='red', alpha=1)`\n",
        "- Describe in words how the vector has changed.\n"
      ]
    },
    {
      "cell_type": "code",
      "metadata": {
        "id": "ztMV5kTQxQ_B",
        "colab": {
          "base_uri": "https://localhost:8080/",
          "height": 298
        },
        "outputId": "97df1fde-234d-4557-eb94-1129229fec3e"
      },
      "source": [
        "#type your code here:\n",
        "v1=np.array([[5],[-2]])\n",
        "Q=np.array([[np.cos(np.rad2deg(np.pi/6)),-np.sin(np.rad2deg(np.pi/6))],[np.sin(np.rad2deg(np.pi/6)),np.cos(np.rad2deg(np.pi/6))]])\n",
        "print(np.cos(np.rad2deg(np.pi/6)))\n",
        "plt.quiver(v1[0], v1[1], angles='xy', scale_units='xy', scale=1, color='red', alpha=1)\n",
        "v2=Q@v\n",
        "plt.quiver(v2[0], v2[1], angles='xy', scale_units='xy', scale=1, color='blue', alpha=1)\n",
        "Q=np.array([[np.cos(np.rad2deg(-np.pi/3)),-np.sin(np.rad2deg(-np.pi/3))],[np.sin(np.rad2deg(-np.pi/3)),np.cos(np.rad2deg(-np.pi/3))]])\n",
        "plt.quiver(v1[0], v1[1], angles='xy', scale_units='xy', scale=1, color='green', alpha=1)\n",
        "v2=Q@v\n",
        "plt.quiver(v2[0], v2[1], angles='xy', scale_units='xy', scale=1, color='orange', alpha=1)\n",
        "plt.xlim(-5,6)\n",
        "plt.ylim(-5,5)"
      ],
      "execution_count": null,
      "outputs": [
        {
          "output_type": "stream",
          "text": [
            "0.15425144988758055\n"
          ],
          "name": "stdout"
        },
        {
          "output_type": "execute_result",
          "data": {
            "text/plain": [
              "(-5.0, 5.0)"
            ]
          },
          "metadata": {
            "tags": []
          },
          "execution_count": 60
        },
        {
          "output_type": "display_data",
          "data": {
            "image/png": "[encoded data removed]",
            "text/plain": [
              "<Figure size 432x288 with 1 Axes>"
            ]
          },
          "metadata": {
            "tags": [],
            "needs_background": "light"
          }
        }
      ]
    },
    {
      "cell_type": "markdown",
      "metadata": {
        "id": "snXygPc7xQ_C"
      },
      "source": [
        "b) Dilations: Generate a matrix D by\n",
        "\n",
        "$D = \\begin{bmatrix} r & 0   \\\\ 0 & 1/r    \\\\ \\end{bmatrix}$ where $r = 0.9$\n",
        "\n",
        "- Repeat with $r = 0.8$\n",
        "- Use [matplotlib.pyplot.quiver](https://matplotlib.org/stable/api/_as_gen/matplotlib.pyplot.quiver.html) to plot the vectors\n",
        "- Describe in words how the vector has changed."
      ]
    },
    {
      "cell_type": "code",
      "metadata": {
        "id": "eOro7lvmxQ_C",
        "colab": {
          "base_uri": "https://localhost:8080/",
          "height": 282
        },
        "outputId": "7bb61109-c42e-4832-fd52-b94936921f21"
      },
      "source": [
        "#type your code here:\n",
        "D=np.array([[0.9,0],[0,1/0.9]])\n",
        "v2=D@v\n",
        "plt.quiver(v2[0], v2[1], angles='xy', scale_units='xy', scale=1, color='blue', alpha=1)\n",
        "D=np.array([[0.8,0],[0,1/0.8]])\n",
        "v2=D@v\n",
        "plt.quiver(v2[0], v2[1], angles='xy', scale_units='xy', scale=1, color='red', alpha=1)\n",
        "plt.xlim(-5,5)\n",
        "plt.ylim(-5,5)"
      ],
      "execution_count": null,
      "outputs": [
        {
          "output_type": "execute_result",
          "data": {
            "text/plain": [
              "(-5.0, 5.0)"
            ]
          },
          "metadata": {
            "tags": []
          },
          "execution_count": 62
        },
        {
          "output_type": "display_data",
          "data": {
            "image/png": "[encoded data removed]",
            "text/plain": [
              "<Figure size 432x288 with 1 Axes>"
            ]
          },
          "metadata": {
            "tags": [],
            "needs_background": "light"
          }
        }
      ]
    },
    {
      "cell_type": "markdown",
      "metadata": {
        "id": "SvWsIkmRxQ_C"
      },
      "source": [
        "c) Shearing Transformations: Generate a matrix T by\n",
        "$T = \\begin{bmatrix} 1 & t   \\\\ 0 & 1    \\\\ \\end{bmatrix}$ where $t = 0.5$\n",
        "\n",
        "- Repeat with $t = -0.5$\n",
        "- Use [matplotlib.pyplot.quiver](https://matplotlib.org/stable/api/_as_gen/matplotlib.pyplot.quiver.html) to plot the vectors\n",
        "- Describe in words how the vector has changed."
      ]
    },
    {
      "cell_type": "code",
      "metadata": {
        "id": "uv5eln8XxQ_C",
        "colab": {
          "base_uri": "https://localhost:8080/",
          "height": 282
        },
        "outputId": "7b9a7170-b942-4faf-cca0-37a9d25f4f11"
      },
      "source": [
        "#type your code here:\n",
        "T=np.array([[1,0.5],[0,1]])\n",
        "v2=T@v\n",
        "plt.quiver(v2[0], v2[1], angles='xy', scale_units='xy', scale=1, color='blue', alpha=1)\n",
        "T=np.array([[1,-0.5],[0,1]])\n",
        "v2=T@v\n",
        "plt.quiver(v2[0], v2[1], angles='xy', scale_units='xy', scale=1, color='red', alpha=1)\n",
        "plt.xlim(-5,10)\n",
        "plt.ylim(-5,5)"
      ],
      "execution_count": null,
      "outputs": [
        {
          "output_type": "execute_result",
          "data": {
            "text/plain": [
              "(-5.0, 5.0)"
            ]
          },
          "metadata": {
            "tags": []
          },
          "execution_count": 63
        },
        {
          "output_type": "display_data",
          "data": {
            "image/png": "[encoded data removed]",
            "text/plain": [
              "<Figure size 432x288 with 1 Axes>"
            ]
          },
          "metadata": {
            "tags": [],
            "needs_background": "light"
          }
        }
      ]
    },
    {
      "cell_type": "code",
      "metadata": {
        "id": "DqoVBGdA7-wx"
      },
      "source": [
        ""
      ],
      "execution_count": null,
      "outputs": []
    }
  ]
}