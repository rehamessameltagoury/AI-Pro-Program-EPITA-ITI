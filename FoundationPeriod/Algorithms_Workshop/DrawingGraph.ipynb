{
  "nbformat": 4,
  "nbformat_minor": 0,
  "metadata": {
    "colab": {
      "name": "DrawingGraph.ipynb",
      "provenance": []
    },
    "kernelspec": {
      "name": "python3",
      "display_name": "Python 3"
    },
    "language_info": {
      "name": "python"
    }
  },
  "cells": [
    {
      "cell_type": "markdown",
      "metadata": {
        "id": "34u0WZ8LEqNl"
      },
      "source": [
        "# Drawing graph using networkx\n",
        "## Code by: Reham Essam ElTagoury\n",
        "## Group: 5"
      ]
    },
    {
      "cell_type": "code",
      "metadata": {
        "id": "no9yop_f_tpF"
      },
      "source": [
        "import networkx as nx\n",
        "import matplotlib.pyplot as plt"
      ],
      "execution_count": 1,
      "outputs": []
    },
    {
      "cell_type": "code",
      "metadata": {
        "colab": {
          "base_uri": "https://localhost:8080/",
          "height": 319
        },
        "id": "YIocYiu1_u0_",
        "outputId": "88219531-ffcd-463a-916d-aa95cf743b8f"
      },
      "source": [
        "G = nx.Graph() \n",
        "# add 5 nodes from 1 to 5\n",
        "for j in range(1,5):\n",
        "  # add 5 nodes\n",
        "    G.add_node(j)\n",
        "# edges connection\n",
        "edge=[[1,2],[3,4],[1,4],[4,5],[5,1]]\n",
        "for i in edge:\n",
        "  G.add_edge(i[0],i[1]) # add edges\n",
        "pos = nx.spring_layout(G) # positions for all nodes\n",
        "nx.draw(G, pos, with_labels=1, edge_color='black', width=1, linewidths=1,\n",
        "                          node_color='Pink') # draw the graph\n",
        "#i=list(nx.dfs_labeled_edges(G,1))\n"
      ],
      "execution_count": 24,
      "outputs": [
        {
          "output_type": "display_data",
          "data": {
            "image/png": "[encoded data removed]",
            "text/plain": [
              "<Figure size 432x288 with 1 Axes>"
            ]
          },
          "metadata": {
            "tags": []
          }
        }
      ]
    },
    {
      "cell_type": "code",
      "metadata": {
        "colab": {
          "base_uri": "https://localhost:8080/"
        },
        "id": "B3miFISOBbul",
        "outputId": "3466c19b-7859-4405-92cf-c060a1db3442"
      },
      "source": [
        "\n",
        "i=list(nx.dfs_edges(G,1)) # depth first search \n",
        "print(i)"
      ],
      "execution_count": 25,
      "outputs": [
        {
          "output_type": "stream",
          "text": [
            "[(1, 2), (1, 4), (4, 3), (4, 5)]\n"
          ],
          "name": "stdout"
        }
      ]
    },
    {
      "cell_type": "code",
      "metadata": {
        "colab": {
          "base_uri": "https://localhost:8080/"
        },
        "id": "WSxQIBBYCo9l",
        "outputId": "ed13ffd2-510c-408f-c018-9b0819441afe"
      },
      "source": [
        "i=list(nx.bfs_edges(G,1)) # breadth first search\n",
        "print(i)"
      ],
      "execution_count": 26,
      "outputs": [
        {
          "output_type": "stream",
          "text": [
            "[(1, 2), (1, 4), (1, 5), (4, 3)]\n"
          ],
          "name": "stdout"
        }
      ]
    }
  ]
}