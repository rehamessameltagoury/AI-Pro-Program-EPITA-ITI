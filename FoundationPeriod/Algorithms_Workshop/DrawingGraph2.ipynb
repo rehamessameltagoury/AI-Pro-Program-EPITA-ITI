{
  "nbformat": 4,
  "nbformat_minor": 0,
  "metadata": {
    "colab": {
      "name": "DrawingGraph2.ipynb",
      "provenance": []
    },
    "kernelspec": {
      "name": "python3",
      "display_name": "Python 3"
    },
    "language_info": {
      "name": "python"
    }
  },
  "cells": [
    {
      "cell_type": "markdown",
      "metadata": {
        "id": "34u0WZ8LEqNl"
      },
      "source": [
        "# Drawing graph using networkx\n",
        "## Code by: Reham Essam ElTagoury\n",
        "## Group: 5"
      ]
    },
    {
      "cell_type": "code",
      "metadata": {
        "id": "no9yop_f_tpF"
      },
      "source": [
        "import networkx as nx\n",
        "import matplotlib.pyplot as plt"
      ],
      "execution_count": 39,
      "outputs": []
    },
    {
      "cell_type": "code",
      "metadata": {
        "colab": {
          "base_uri": "https://localhost:8080/",
          "height": 248
        },
        "id": "jETLz58-nOsw",
        "outputId": "5f68691a-dc81-4e0d-81b5-19b21d890ed8"
      },
      "source": [
        "\n",
        "G = nx.Graph()\n",
        "\n",
        "G.add_edge(\"a\", \"b\", weight=0.6)\n",
        "G.add_edge(\"a\", \"c\", weight=0.2)\n",
        "G.add_edge(\"c\", \"d\", weight=0.1)\n",
        "G.add_edge(\"c\", \"e\", weight=0.7)\n",
        "G.add_edge(\"c\", \"f\", weight=0.9)\n",
        "G.add_edge(\"a\", \"d\", weight=0.3)\n",
        "\n",
        "elarge = [(u, v) for (u, v, d) in G.edges(data=True) if d[\"weight\"] > 0.5]\n",
        "esmall = [(u, v) for (u, v, d) in G.edges(data=True) if d[\"weight\"] <= 0.5]\n",
        "\n",
        "pos = nx.spring_layout(G)  # positions for all nodes\n",
        "\n",
        "# nodes\n",
        "nx.draw_networkx_nodes(G, pos, node_size=700)\n",
        "\n",
        "# edges\n",
        "nx.draw_networkx_edges(G, pos, edgelist=elarge, width=6)\n",
        "nx.draw_networkx_edges(\n",
        "    G, pos, edgelist=esmall, width=6, alpha=0.5, edge_color=\"b\", style=\"dashed\"\n",
        ")\n",
        "\n",
        "# labels\n",
        "nx.draw_networkx_labels(G, pos, font_size=20, font_family=\"sans-serif\")\n",
        "labels = nx.get_edge_attributes(G, 'weight')\n",
        "nx.draw_networkx_edge_labels(G, pos, edge_labels=labels)\n",
        "plt.axis(\"off\")\n",
        "plt.show()"
      ],
      "execution_count": 45,
      "outputs": [
        {
          "output_type": "display_data",
          "data": {
            "image/png": "[encoded data removed]",
            "text/plain": [
              "<Figure size 432x288 with 1 Axes>"
            ]
          },
          "metadata": {
            "tags": []
          }
        }
      ]
    },
    {
      "cell_type": "code",
      "metadata": {
        "colab": {
          "base_uri": "https://localhost:8080/"
        },
        "id": "sCZ0W7Imnw1A",
        "outputId": "5a86e505-b525-4de5-e28c-66963e7d846c"
      },
      "source": [
        "T=nx.minimum_spanning_tree(G)\n",
        "list(T)"
      ],
      "execution_count": 41,
      "outputs": [
        {
          "output_type": "execute_result",
          "data": {
            "text/plain": [
              "['a', 'b', 'c', 'd', 'e', 'f']"
            ]
          },
          "metadata": {
            "tags": []
          },
          "execution_count": 41
        }
      ]
    },
    {
      "cell_type": "code",
      "metadata": {
        "colab": {
          "base_uri": "https://localhost:8080/"
        },
        "id": "hiUqISOsoA6C",
        "outputId": "6d12a73a-e0f4-4cd0-ddff-f397dbe4c94c"
      },
      "source": [
        "sh=nx.shortest_path(G)\n",
        "print(list(sh))"
      ],
      "execution_count": 42,
      "outputs": [
        {
          "output_type": "stream",
          "text": [
            "['a', 'b', 'c', 'd', 'e', 'f']\n"
          ],
          "name": "stdout"
        }
      ]
    },
    {
      "cell_type": "code",
      "metadata": {
        "colab": {
          "base_uri": "https://localhost:8080/"
        },
        "id": "v9Ry2PLUoD3e",
        "outputId": "8a266bb5-21e9-4127-d869-4ab54e8feaac"
      },
      "source": [
        "kru=nx.minimum_spanning_edges(G, algorithm=\"kruskal\", data=False)\n",
        "list(kru)"
      ],
      "execution_count": 43,
      "outputs": [
        {
          "output_type": "execute_result",
          "data": {
            "text/plain": [
              "[('c', 'd'), ('a', 'c'), ('a', 'b'), ('c', 'e'), ('c', 'f')]"
            ]
          },
          "metadata": {
            "tags": []
          },
          "execution_count": 43
        }
      ]
    },
    {
      "cell_type": "code",
      "metadata": {
        "colab": {
          "base_uri": "https://localhost:8080/"
        },
        "id": "eHlQTGA9oswZ",
        "outputId": "54c782d5-9467-4e82-e4ce-608f452e0cb4"
      },
      "source": [
        "prim=nx.minimum_spanning_edges(G, algorithm=\"prim\", data=False)\n",
        "list(prim)"
      ],
      "execution_count": 44,
      "outputs": [
        {
          "output_type": "execute_result",
          "data": {
            "text/plain": [
              "[('e', 'c'), ('c', 'd'), ('c', 'a'), ('a', 'b'), ('c', 'f')]"
            ]
          },
          "metadata": {
            "tags": []
          },
          "execution_count": 44
        }
      ]
    }
  ]
}