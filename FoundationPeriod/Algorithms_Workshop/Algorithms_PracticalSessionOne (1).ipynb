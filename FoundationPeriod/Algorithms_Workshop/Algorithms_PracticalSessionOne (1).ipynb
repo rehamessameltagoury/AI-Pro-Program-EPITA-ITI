{
 "cells": [
  {
   "cell_type": "markdown",
   "metadata": {
    "id": "FtPCKe4dU6QY"
   },
   "source": [
    "# Practical 1:\n",
    "# Reham Essam ElDin ElTagoury\n",
    "\n",
    "# Group 5"
   ]
  },
  {
   "cell_type": "markdown",
   "metadata": {
    "id": "ZEmzACib92rJ"
   },
   "source": [
    "# In This Session We will learn:\n",
    " \n",
    "\n",
    "*   Iterative & Recursive problems\n",
    "*   Tail Recursive\n",
    "*   Time complexity\n",
    "*   Insertion Sort > Iterative and Recursive Solution\n",
    "*   Bubble Sort > Iterative and Recursive Solution\n",
    "*   Linear Search > Iterative and Recursive Solution\n",
    "*   Binary Search > Iterative and Recursive Solution\n",
    "\n",
    "\n",
    "\n",
    "\n"
   ]
  },
  {
   "cell_type": "markdown",
   "metadata": {
    "id": "TYGLoyuxF4oq"
   },
   "source": [
    "# Factorial Iterative\n"
   ]
  },
  {
   "cell_type": "code",
   "execution_count": 1,
   "metadata": {
    "colab": {
     "base_uri": "https://localhost:8080/"
    },
    "id": "JILfRyqtF4or",
    "outputId": "85fb65ac-26f0-4364-bacd-49f3450b310b"
   },
   "outputs": [
    {
     "data": {
      "text/plain": [
       "120"
      ]
     },
     "execution_count": 1,
     "metadata": {},
     "output_type": "execute_result"
    }
   ],
   "source": [
    "def iterative_fact(n):\n",
    "    fact =1\n",
    "    for i in range(1, n+1):\n",
    "        fact=i*fact\n",
    "    return fact\n",
    "iterative_fact(5)"
   ]
  },
  {
   "cell_type": "markdown",
   "metadata": {
    "id": "qaJ9NlMrGhk5"
   },
   "source": [
    "### Time Complexity:\n",
    "O(N)"
   ]
  },
  {
   "cell_type": "markdown",
   "metadata": {
    "id": "19dD_UruF4os"
   },
   "source": [
    "# Recursive Factorial\n"
   ]
  },
  {
   "cell_type": "code",
   "execution_count": 2,
   "metadata": {
    "colab": {
     "base_uri": "https://localhost:8080/"
    },
    "id": "cI_AxTsrF4ot",
    "outputId": "ad9d3730-a516-45c5-94c9-67c9e29f2c5f"
   },
   "outputs": [
    {
     "data": {
      "text/plain": [
       "120"
      ]
     },
     "execution_count": 2,
     "metadata": {},
     "output_type": "execute_result"
    }
   ],
   "source": [
    "def fact(n):\n",
    "    if n<=1:\n",
    "        return 1\n",
    "    return  n*fact(n-1)\n",
    "fact(5)"
   ]
  },
  {
   "cell_type": "markdown",
   "metadata": {
    "id": "VS-_-d3WF4ot"
   },
   "source": [
    "# Bonus Question Tail recursive Factorial"
   ]
  },
  {
   "cell_type": "code",
   "execution_count": 3,
   "metadata": {
    "colab": {
     "base_uri": "https://localhost:8080/"
    },
    "id": "ThbiQ2CWF4ou",
    "outputId": "f544be2f-beb3-479b-d32e-4cc94b435484"
   },
   "outputs": [
    {
     "data": {
      "text/plain": [
       "120"
      ]
     },
     "execution_count": 3,
     "metadata": {},
     "output_type": "execute_result"
    }
   ],
   "source": [
    "def fact(n, a = 1):\n",
    " \n",
    "    if (n == 0):\n",
    "        return a\n",
    " \n",
    "    return fact(n - 1, n * a)\n",
    "fact(5)"
   ]
  },
  {
   "cell_type": "markdown",
   "metadata": {
    "id": "seCLGywhF4ou"
   },
   "source": [
    "# Fibonacci Iterative\n"
   ]
  },
  {
   "cell_type": "code",
   "execution_count": 4,
   "metadata": {
    "colab": {
     "base_uri": "https://localhost:8080/"
    },
    "id": "8ItcJtZFF4ou",
    "outputId": "93eb7866-4b37-45e1-913c-da7457fbb9eb"
   },
   "outputs": [
    {
     "data": {
      "text/plain": [
       "5"
      ]
     },
     "execution_count": 4,
     "metadata": {},
     "output_type": "execute_result"
    }
   ],
   "source": [
    "def fib(n):\n",
    "    li=[1,1]\n",
    "    for i in range(2,n):\n",
    "      li.append(li[i-1]+li[i-2])\n",
    "    return li[-1]\n",
    "fib(5)\n"
   ]
  },
  {
   "cell_type": "markdown",
   "metadata": {
    "id": "juo6PiotF4ov"
   },
   "source": [
    "# Fibonacci Recursion"
   ]
  },
  {
   "cell_type": "code",
   "execution_count": 5,
   "metadata": {
    "colab": {
     "base_uri": "https://localhost:8080/"
    },
    "id": "ONyJKgbEF4ov",
    "outputId": "9e8dca94-f781-44a1-c117-e5b0cff8b615"
   },
   "outputs": [
    {
     "data": {
      "text/plain": [
       "5"
      ]
     },
     "execution_count": 5,
     "metadata": {},
     "output_type": "execute_result"
    }
   ],
   "source": [
    "def fib(n):\n",
    "    if n==0:\n",
    "        return 0\n",
    "    if n==1:\n",
    "        return 1\n",
    "    return fib(n-1)+fib(n-2)\n",
    "n=10\n",
    "\n",
    "fib(5)"
   ]
  },
  {
   "cell_type": "markdown",
   "metadata": {
    "id": "4PrCkTaRF4ov"
   },
   "source": [
    "#  Bonus Question Tail Recursion Fibonacci"
   ]
  },
  {
   "cell_type": "code",
   "execution_count": 6,
   "metadata": {
    "colab": {
     "base_uri": "https://localhost:8080/"
    },
    "id": "R2UmNAlqF4ov",
    "outputId": "0a3f2d67-d016-44cb-cb45-cf9a51aadfa0"
   },
   "outputs": [
    {
     "data": {
      "text/plain": [
       "5"
      ]
     },
     "execution_count": 6,
     "metadata": {},
     "output_type": "execute_result"
    }
   ],
   "source": [
    "## tail recursion means that the function doesn't reserve a space in the stack so we will do it by not making an operation in the last return\n",
    "def fib(n,b=1,a=0):\n",
    "    if n==0:\n",
    "        return a\n",
    "    if n==1:\n",
    "        return b\n",
    "    return fib(n-1,a+b,b)\n",
    "n=10\n",
    "\n",
    "fib(5)"
   ]
  },
  {
   "cell_type": "markdown",
   "metadata": {
    "id": "bKS6ZB9RF4ox"
   },
   "source": [
    "# iterative gcd"
   ]
  },
  {
   "cell_type": "code",
   "execution_count": 7,
   "metadata": {
    "colab": {
     "base_uri": "https://localhost:8080/"
    },
    "id": "zLrMhNHkF4ox",
    "outputId": "b04408c2-2eac-4fdf-a389-c05e30ee6527"
   },
   "outputs": [
    {
     "name": "stdout",
     "output_type": "stream",
     "text": [
      "17\n"
     ]
    }
   ],
   "source": [
    "def gcd(a,b):\n",
    "  '''\n",
    "  rem=b%a\n",
    "  while(1):\n",
    "    if rem==0:\n",
    "      return b\n",
    "    a=b\n",
    "    b=rem\n",
    "    rem=a%b\n",
    "  '''\n",
    "  if b > a:\n",
    "     a,b=b,a\n",
    "  for i in range(1,b+1):\n",
    "     if a%i==0 and b%i==0:\n",
    "       gcd=i\n",
    "  return gcd\n",
    "gcd(12,30)\n",
    "print(gcd(68,119))"
   ]
  },
  {
   "cell_type": "markdown",
   "metadata": {
    "id": "W_yHkBwDF4ox"
   },
   "source": [
    "# recursion GCD"
   ]
  },
  {
   "cell_type": "code",
   "execution_count": 8,
   "metadata": {
    "colab": {
     "base_uri": "https://localhost:8080/"
    },
    "id": "_wtfXM95F4ox",
    "outputId": "3bf1732b-3f0b-4a82-f110-aaf81954627e"
   },
   "outputs": [
    {
     "data": {
      "text/plain": [
       "6"
      ]
     },
     "execution_count": 8,
     "metadata": {},
     "output_type": "execute_result"
    }
   ],
   "source": [
    "def gcd(a,b):\n",
    "    if b%a==0:\n",
    "        return a\n",
    "    return gcd(b,a%b)\n",
    "gcd(68,119)\n",
    "gcd(12,30)"
   ]
  },
  {
   "cell_type": "markdown",
   "metadata": {
    "id": "eaVp10MRF4oy"
   },
   "source": [
    "# Eculidean GCD"
   ]
  },
  {
   "cell_type": "code",
   "execution_count": 9,
   "metadata": {
    "colab": {
     "base_uri": "https://localhost:8080/"
    },
    "id": "sOQR4py9F4oy",
    "outputId": "16e7147d-23b5-4a62-c11b-87cf5471336e"
   },
   "outputs": [
    {
     "data": {
      "text/plain": [
       "17"
      ]
     },
     "execution_count": 9,
     "metadata": {},
     "output_type": "execute_result"
    }
   ],
   "source": [
    "def gcd(a,b):\n",
    "    while(b!=0):\n",
    "        a, b = b, a % b\n",
    "    return a\n",
    "gcd(12,30)\n",
    "gcd(68,119)"
   ]
  },
  {
   "cell_type": "markdown",
   "metadata": {},
   "source": [
    "# Sorting Algorithms"
   ]
  },
  {
   "cell_type": "markdown",
   "metadata": {
    "id": "lwWYLKd4F4oy"
   },
   "source": [
    "# Insertion sort"
   ]
  },
  {
   "cell_type": "code",
   "execution_count": 10,
   "metadata": {
    "colab": {
     "base_uri": "https://localhost:8080/"
    },
    "id": "mw2zoavBp6z6",
    "outputId": "73ddb4f8-bab9-437e-ca1d-32341e2a0e87"
   },
   "outputs": [
    {
     "name": "stdout",
     "output_type": "stream",
     "text": [
      "[1, 2, 3, 9, 20]\n"
     ]
    }
   ],
   "source": [
    "arr=[2,9,20,3,1]\n",
    "j=0\n",
    "#sorted_element=arr[0]\n",
    "sorted_element=0\n",
    "for i in range(1,len(arr)):\n",
    "    j=i-1\n",
    "    sorted_element=arr[i]\n",
    "    while(j!=-1 and sorted_element<arr[j]):\n",
    "        arr[j],arr[j+1]=arr[j+1],arr[j]\n",
    "        #sorted_element=arr[j]  \n",
    "        j-=1  \n",
    "print(arr)"
   ]
  },
  {
   "cell_type": "markdown",
   "metadata": {
    "id": "7vbd9MHVq8Vw"
   },
   "source": [
    "## Time Complexity\n",
    "O(N<sup>2</sup>)"
   ]
  },
  {
   "cell_type": "code",
   "execution_count": 11,
   "metadata": {
    "colab": {
     "base_uri": "https://localhost:8080/"
    },
    "id": "olTCm-ys-mD9",
    "outputId": "1a7345e5-79fd-4e03-c565-e128dfcc56c4"
   },
   "outputs": [
    {
     "data": {
      "text/plain": [
       "[1, 2, 3, 9, 20]"
      ]
     },
     "execution_count": 11,
     "metadata": {},
     "output_type": "execute_result"
    }
   ],
   "source": [
    "# recursive\n",
    "arr=[2,9,20,3,1]\n",
    "def insertion_sort(arr,i,n):\n",
    "    sorted_element=arr[i]\n",
    "    j=i-1\n",
    "    while(j!=-1 and sorted_element<arr[j]):\n",
    "        arr[j],arr[j+1]=arr[j+1],arr[j]\n",
    "        j-=1  \n",
    "    if i+1 <n:\n",
    "        return insertion_sort(arr,i+1,n)\n",
    "    return arr\n",
    "insertion_sort(arr,0,len(arr))\n"
   ]
  },
  {
   "cell_type": "markdown",
   "metadata": {
    "id": "BDCfL95nF4oy"
   },
   "source": [
    "# Bubble sort"
   ]
  },
  {
   "cell_type": "code",
   "execution_count": 12,
   "metadata": {
    "colab": {
     "base_uri": "https://localhost:8080/"
    },
    "id": "yQycXYXsF4oz",
    "outputId": "7f9e2300-8cdd-4d4e-9bf3-1165ebfac97e"
   },
   "outputs": [
    {
     "name": "stdout",
     "output_type": "stream",
     "text": [
      "[5, 7, 8, 9]\n"
     ]
    }
   ],
   "source": [
    "# BUBBLE SORTING\n",
    "arr=[5,8,9,7]\n",
    "for j in range(1,len(arr)):\n",
    "    for i in range(1,len(arr)-1):\n",
    "        if arr[i]> arr[i+1]:\n",
    "       # swap\n",
    "           arr[i],arr[i+1]=arr[i+1],arr[i]\n",
    "print(arr)"
   ]
  },
  {
   "cell_type": "markdown",
   "metadata": {
    "id": "W123MqTkLc4O"
   },
   "source": [
    "## Time complexity:\n",
    "O(N<sup>2</sup>)"
   ]
  },
  {
   "cell_type": "markdown",
   "metadata": {},
   "source": [
    "# Search Algorithms"
   ]
  },
  {
   "cell_type": "markdown",
   "metadata": {
    "id": "p3_dVuKxF4ow"
   },
   "source": [
    "# Iterative Linear Search"
   ]
  },
  {
   "cell_type": "code",
   "execution_count": 13,
   "metadata": {
    "colab": {
     "base_uri": "https://localhost:8080/"
    },
    "id": "2qdGo2zrF4ow",
    "outputId": "e0180407-2bdf-4fc3-924f-91421ba705a6"
   },
   "outputs": [
    {
     "name": "stdout",
     "output_type": "stream",
     "text": [
      "4 is Found with index 2\n"
     ]
    }
   ],
   "source": [
    "arr=[5,3,4,7]\n",
    "def linear_search(arr,element_search):\n",
    "    found= False\n",
    "    for i in arr:\n",
    "        if i == element_search:\n",
    "            found = True\n",
    "            print(str(element_search )+' is Found' + \" with index \" + str(arr.index(element_search)))\n",
    "            if not found:\n",
    "                print(str(element_search )+' is not Found')\n",
    "#(linear_search(arr,10))\n",
    "linear_search(arr,4)"
   ]
  },
  {
   "cell_type": "markdown",
   "metadata": {
    "id": "HyYMqPtCHXYa"
   },
   "source": [
    "## Time complexity:\n",
    "let length of array = N\n",
    "\n",
    "O(N)"
   ]
  },
  {
   "cell_type": "markdown",
   "metadata": {
    "id": "5IFBGaNMF4ow"
   },
   "source": [
    "# Recursion linear search"
   ]
  },
  {
   "cell_type": "code",
   "execution_count": 14,
   "metadata": {
    "colab": {
     "base_uri": "https://localhost:8080/",
     "height": 35
    },
    "id": "M8OdwO-fF4ox",
    "outputId": "5ad2e4a8-f6e4-42eb-c405-901c339bfeed"
   },
   "outputs": [
    {
     "data": {
      "text/plain": [
       "'5 is Found with index 3'"
      ]
     },
     "execution_count": 14,
     "metadata": {},
     "output_type": "execute_result"
    }
   ],
   "source": [
    "arr=[1,2,3,5]\n",
    "def rec_lin_search(arr,element_search):\n",
    "    #print(arr)\n",
    "    if element_search in arr:\n",
    "        return str(element_search )+' is Found' + \" with index \" + str(arr.index(element_search))\n",
    "    else:\n",
    "        return str(element_search)+' is not Found'     \n",
    "    return rec_lin_search(arr[1:],element_search)\n",
    "#rec_lin_search(arr,10)   \n",
    "rec_lin_search(arr,5)  "
   ]
  },
  {
   "cell_type": "markdown",
   "metadata": {
    "id": "WgESzkIdF4oz"
   },
   "source": [
    "# Binary Search Iterative"
   ]
  },
  {
   "cell_type": "code",
   "execution_count": 15,
   "metadata": {
    "colab": {
     "base_uri": "https://localhost:8080/"
    },
    "id": "VYKSlFT-F4oz",
    "outputId": "8c66ef6d-1f79-4fb6-fe52-0f2a549e2b07"
   },
   "outputs": [
    {
     "name": "stdout",
     "output_type": "stream",
     "text": [
      "True\n"
     ]
    }
   ],
   "source": [
    "arr=[1,2,4,5,7]\n",
    "element_search = 1\n",
    "found=False\n",
    "mid_index=(len(arr)//2)\n",
    "# first case if the mid = search element\n",
    "if arr[mid_index]==element_search:\n",
    "    found=True\n",
    "mid_index_left=mid_index\n",
    "mid_index_right=mid_index\n",
    "# second case\n",
    "while True:\n",
    "    # if the element on the left\n",
    "    if arr[mid_index_left]<element_search:\n",
    "      ## left\n",
    "      left=arr[mid_index_left:]\n",
    "      if left[mid_index_left]==element_search:\n",
    "        found=True\n",
    "        break\n",
    "      mid_index_left=len(left)//2\n",
    "     # if the element on the right\n",
    "    else:\n",
    "      #right\n",
    "      right=arr[:mid_index_right]\n",
    "      if right[mid_index_right-1]==element_search:\n",
    "        found=True\n",
    "        break\n",
    "      mid_index_right=len(right)//2\n",
    "\n",
    "print(found)"
   ]
  },
  {
   "cell_type": "markdown",
   "metadata": {
    "id": "RdiZbikKT6HO"
   },
   "source": [
    "## Time Complexity\n",
    "O(log(N))"
   ]
  },
  {
   "cell_type": "markdown",
   "metadata": {
    "id": "I5Aq7B0bF4oz"
   },
   "source": [
    "# Binary Search Recursive"
   ]
  },
  {
   "cell_type": "code",
   "execution_count": 16,
   "metadata": {
    "colab": {
     "base_uri": "https://localhost:8080/"
    },
    "id": "Hiqcj3D7F4o0",
    "outputId": "abb50698-7e97-4193-a031-aaa5627b65ab"
   },
   "outputs": [
    {
     "name": "stdout",
     "output_type": "stream",
     "text": [
      "Found\n"
     ]
    }
   ],
   "source": [
    "def binarySearch(arr,left,right,element_search):\n",
    "  if right >= left:\n",
    "          mid_index = left+(right-left) // 2                                           \n",
    "          if arr[mid_index] == element_search:\n",
    "              return \"Found\"\n",
    "          elif arr[mid_index] > element_search:\n",
    "              return binarySearch(arr, left, mid_index-1, element_search)\n",
    "          else:\n",
    "              return binarySearch(arr, mid_index + 1, right, element_search)\n",
    "  else:\n",
    "          return \"Not Found\"\n",
    "arr=[1,2,3,4,5]\n",
    "element_search=5\n",
    "print(binarySearch(arr,0,len(arr)-1,element_search))"
   ]
  }
 ],
 "metadata": {
  "colab": {
   "collapsed_sections": [],
   "name": "Algorithms PracticalSessionOne.ipynb",
   "provenance": []
  },
  "kernelspec": {
   "display_name": "Python 3",
   "language": "python",
   "name": "python3"
  },
  "language_info": {
   "codemirror_mode": {
    "name": "ipython",
    "version": 3
   },
   "file_extension": ".py",
   "mimetype": "text/x-python",
   "name": "python",
   "nbconvert_exporter": "python",
   "pygments_lexer": "ipython3",
   "version": "3.9.0"
  },
  "toc": {
   "base_numbering": 1,
   "nav_menu": {},
   "number_sections": true,
   "sideBar": true,
   "skip_h1_title": false,
   "title_cell": "Table of Contents",
   "title_sidebar": "Contents",
   "toc_cell": false,
   "toc_position": {},
   "toc_section_display": true,
   "toc_window_display": false
  }
 },
 "nbformat": 4,
 "nbformat_minor": 1
}
