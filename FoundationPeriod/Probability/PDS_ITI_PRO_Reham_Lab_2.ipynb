{
 "cells": [
  {
   "cell_type": "markdown",
   "metadata": {},
   "source": [
    "# LAB 2: Indepdenece and Random Variables\n",
    "\n",
    "In this lab you will use python to study the following topics:\n",
    "\n",
    "- Simulate independent events.\n",
    "- Calculate arthemitic mean, sample variance, and sample standard deviation for a dataset."
   ]
  },
  {
   "cell_type": "markdown",
   "metadata": {},
   "source": [
    "# First: you should run this cell"
   ]
  },
  {
   "cell_type": "code",
   "execution_count": 1,
   "metadata": {},
   "outputs": [],
   "source": [
    "# Make all numpy available via shorter 'np' prefix\n",
    "import numpy as np\n",
    "\n",
    "# matplotlib library\n",
    "import matplotlib.pyplot as plt"
   ]
  },
  {
   "cell_type": "markdown",
   "metadata": {},
   "source": [
    "# Problem 1\n",
    "\n",
    "Use NumPy to create simulations and compute **empirical  probability** for the following outcomes. Compare the results with the **theoretical probability**.\n",
    "\n",
    "1. Two fair coin flips produce exactly two heads"
   ]
  },
  {
   "cell_type": "code",
   "execution_count": 8,
   "metadata": {},
   "outputs": [
    {
     "data": {
      "text/plain": [
       "0.233"
      ]
     },
     "execution_count": 8,
     "metadata": {},
     "output_type": "execute_result"
    }
   ],
   "source": [
    "#type your code here:\n",
    "# empirical prop\n",
    "n=1000 # number of samples\n",
    "random_h_t=np.random.randint(2,size=(n,2))\n",
    "exp=np.sum(random_h_t,axis=1)\n",
    "prob=np.sum(exp==2)/n\n",
    "prob"
   ]
  },
  {
   "cell_type": "markdown",
   "metadata": {},
   "source": [
    "2. Three fair coin flips produce exactly one head"
   ]
  },
  {
   "cell_type": "code",
   "execution_count": 13,
   "metadata": {},
   "outputs": [
    {
     "data": {
      "text/plain": [
       "0.369"
      ]
     },
     "execution_count": 13,
     "metadata": {},
     "output_type": "execute_result"
    }
   ],
   "source": [
    "#type your code here:\n",
    "n=1000 # number of samples\n",
    "random_h_t=np.random.randint(2,size=(n,3))\n",
    "exp=np.sum(random_h_t,axis=1)\n",
    "prob=np.sum(exp==1)/n\n",
    "prob"
   ]
  },
  {
   "cell_type": "markdown",
   "metadata": {},
   "source": [
    "3. Three biased coin flips with P(H) = 0.6 produce exactly one head"
   ]
  },
  {
   "cell_type": "code",
   "execution_count": 14,
   "metadata": {},
   "outputs": [
    {
     "data": {
      "text/plain": [
       "0.281"
      ]
     },
     "execution_count": 14,
     "metadata": {},
     "output_type": "execute_result"
    }
   ],
   "source": [
    "#type your code here:\n",
    "n=1000 # number of samples\n",
    "random_h_t=np.random.choice([0,1],size=(n,3),p=[0.4,0.6])\n",
    "exp=np.sum(random_h_t,axis=1)\n",
    "prob=np.sum(exp==1)/n\n",
    "prob\n",
    "#0.28775"
   ]
  },
  {
   "cell_type": "markdown",
   "metadata": {},
   "source": [
    "# Problem 2\n",
    "\n",
    "The probability of rain in a day is p = 0.5. Give the python code to simulate the probability of rain during weekend (**i.e rain on any one of the 2 weekend days Friday Or Saturday**) (assume independence between raining days). Compare the results with the theoretical probability."
   ]
  },
  {
   "cell_type": "code",
   "execution_count": 18,
   "metadata": {},
   "outputs": [
    {
     "data": {
      "text/plain": [
       "0.737"
      ]
     },
     "execution_count": 18,
     "metadata": {},
     "output_type": "execute_result"
    }
   ],
   "source": [
    "#type your code here:\n",
    "p=0.5 # prob of rain\n",
    "q=0.5 # prob of no rain\n",
    "random_rain=np.random.choice([0,1],size=(1000,2),p=[p,q])\n",
    "exp=np.sum(random_rain,axis=1)\n",
    "(exp >= 1).mean()\n"
   ]
  },
  {
   "cell_type": "markdown",
   "metadata": {},
   "source": [
    "# Problem 3\n",
    "Simulate Rolling a fair die $1000$ times. Then calculate the following:\n",
    "\n",
    "- Sample mean\n",
    "- Sample variance\n",
    "- Sample standard deviation\n",
    "\n",
    "Compare the results with the theoretical probability."
   ]
  },
  {
   "cell_type": "code",
   "execution_count": 19,
   "metadata": {},
   "outputs": [
    {
     "name": "stdout",
     "output_type": "stream",
     "text": [
      "Sample Mean:  3.579\n",
      "Sample Variance:  2.8365955955955955\n",
      "Sample Std Dev:  1.6842195805759994\n"
     ]
    }
   ],
   "source": [
    "#type your code here:\n",
    "dice=np.random.randint(6,size=1000)+1\n",
    "print(\"Sample Mean: \",dice.mean())\n",
    "print(\"Sample Variance: \",dice.var(ddof=1))\n",
    "print(\"Sample Std Dev: \",dice.std(ddof=1))\n"
   ]
  }
 ],
 "metadata": {
  "kernelspec": {
   "display_name": "Python 3",
   "language": "python",
   "name": "python3"
  },
  "language_info": {
   "codemirror_mode": {
    "name": "ipython",
    "version": 3
   },
   "file_extension": ".py",
   "mimetype": "text/x-python",
   "name": "python",
   "nbconvert_exporter": "python",
   "pygments_lexer": "ipython3",
   "version": "3.9.0"
  }
 },
 "nbformat": 4,
 "nbformat_minor": 4
}
