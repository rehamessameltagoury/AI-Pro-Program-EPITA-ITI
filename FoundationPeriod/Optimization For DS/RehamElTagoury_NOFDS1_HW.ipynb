{
  "nbformat": 4,
  "nbformat_minor": 0,
  "metadata": {
    "colab": {
      "name": "RehamElTagoury_NOFDS1_HW.ipynb",
      "provenance": [],
      "collapsed_sections": []
    },
    "kernelspec": {
      "name": "python3",
      "display_name": "Python 3"
    },
    "language_info": {
      "name": "python"
    }
  },
  "cells": [
    {
      "cell_type": "markdown",
      "metadata": {
        "id": "IAg349LlXYPy"
      },
      "source": [
        "# NOFDS1 HW1 Q2\n",
        "## Reham Essam ElDin ELTagoury\n",
        "## Group 5"
      ]
    },
    {
      "cell_type": "markdown",
      "metadata": {
        "id": "BFAF9usFBpR5"
      },
      "source": [
        "# Newton Raphson Method"
      ]
    },
    {
      "cell_type": "code",
      "metadata": {
        "colab": {
          "base_uri": "https://localhost:8080/"
        },
        "id": "Aaq9kc-K8J4P",
        "outputId": "e6bc84e9-5a5f-4b69-96d8-7fa0bff72c29"
      },
      "source": [
        "\n",
        "from sympy import *\n",
        "def NR(f,df,x0,eps):\n",
        "   f_sub=lambdify(x, f)\n",
        "   df_sub=lambdify(x, df)\n",
        "   #print(f_sub(x0))\n",
        "   #print(df_sub(x0))\n",
        "   i=1\n",
        "   while(1):\n",
        "      x_new=x0-(f_sub(x0)/df_sub(x0))\n",
        "      print(\"i {} X_new {} F_X {} \".format(i,x_new,f_sub(x0)))\n",
        "      if abs(f_sub(x0)) <= eps:\n",
        "         break \n",
        "      x0=x_new\n",
        "      i+=1\n",
        "   return x_new\n",
        "\n",
        "\n",
        "\n",
        "x=Symbol('x')\n",
        "############################Example1##############################\n",
        "f=x**2-x-1\n",
        "df=f.diff(x)\n",
        "print(\"Example1 : \",NR(f,df,1,1e-6))\n",
        "####################################################################\n",
        "\n",
        "\n",
        "############################Example2##############################\n",
        "\n",
        "f=x**3-7*x**2+8*x-3\n",
        "df=f.diff(x)\n",
        "print(\"Example2 : \",NR(f,df,5,1e-6))\n",
        "####################################################################\n",
        "\n",
        "############################Example3##############################\n",
        "f=x*cos(x)-x**2\n",
        "df=f.diff(x)\n",
        "print(\"Example3 : \",NR(f,df,1,1e-6))\n"
      ],
      "execution_count": 35,
      "outputs": [
        {
          "output_type": "stream",
          "text": [
            "i 1 X_new 2.0 F_X -1 \n",
            "i 2 X_new 1.6666666666666667 F_X 1.0 \n",
            "i 3 X_new 1.619047619047619 F_X 0.11111111111111138 \n",
            "i 4 X_new 1.618034447821682 F_X 0.0022675736961450532 \n",
            "i 5 X_new 1.618033988749989 F_X 1.0265159333666674e-06 \n",
            "i 6 X_new 1.618033988749895 F_X 2.1049828546892968e-13 \n",
            "Example1 :  1.618033988749895\n",
            "i 1 X_new 6.0 F_X -13 \n",
            "i 2 X_new 5.71875 F_X 9.0 \n",
            "i 3 X_new 5.686201968134958 F_X 0.847869873046875 \n",
            "i 4 X_new 5.685779596779872 F_X 0.010724790478420232 \n",
            "i 5 X_new 5.6857795260896316 F_X 1.7943554411203877e-06 \n",
            "i 6 X_new 5.685779526089629 F_X 7.815970093361102e-14 \n",
            "Example2 :  5.685779526089629\n",
            "i 1 X_new 0.800232943226195 F_X -0.45969769413186023 \n",
            "i 2 X_new 0.7440943984943447 F_X -0.08297883948264928 \n",
            "i 3 X_new 0.7391240683567624 F_X -0.006245054317481014 \n",
            "i 4 X_new 0.7390851356007351 F_X -4.816345411129408e-05 \n",
            "i 5 X_new 0.7390851332151607 F_X -2.9508167020964038e-09 \n",
            "Example3 :  0.7390851332151607\n"
          ],
          "name": "stdout"
        }
      ]
    }
  ]
}